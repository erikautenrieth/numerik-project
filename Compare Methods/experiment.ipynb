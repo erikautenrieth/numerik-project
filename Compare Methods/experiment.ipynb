{
 "cells": [
  {
   "cell_type": "code",
   "execution_count": 1,
   "outputs": [],
   "source": [
    "import numpy.linalg as npl\n",
    "import numpy as np\n",
    "import matplotlib.pyplot as plt\n",
    "from timeit import Timer\n",
    "from sympy import *\n",
    "init_printing()"
   ],
   "metadata": {
    "collapsed": false,
    "pycharm": {
     "name": "#%%\n"
    }
   }
  },
  {
   "cell_type": "code",
   "execution_count": 2,
   "outputs": [
    {
     "ename": "ModuleNotFoundError",
     "evalue": "No module named 'help_functions'",
     "output_type": "error",
     "traceback": [
      "\u001B[1;31m---------------------------------------------------------------------------\u001B[0m",
      "\u001B[1;31mModuleNotFoundError\u001B[0m                       Traceback (most recent call last)",
      "\u001B[1;32m<ipython-input-2-657c1137bd49>\u001B[0m in \u001B[0;36m<module>\u001B[1;34m\u001B[0m\n\u001B[0;32m      1\u001B[0m \u001B[1;32mfrom\u001B[0m \u001B[0mMethods\u001B[0m\u001B[1;33m.\u001B[0m\u001B[0mmethods\u001B[0m \u001B[1;32mimport\u001B[0m \u001B[0mjacobi\u001B[0m\u001B[1;33m,\u001B[0m \u001B[0msor\u001B[0m\u001B[1;33m,\u001B[0m \u001B[0mgauss_seidel\u001B[0m\u001B[1;33m,\u001B[0m \u001B[0mgauss\u001B[0m\u001B[1;33m,\u001B[0m \u001B[0mcomp_w\u001B[0m\u001B[1;33m,\u001B[0m \u001B[0merror\u001B[0m\u001B[1;33m\u001B[0m\u001B[1;33m\u001B[0m\u001B[0m\n\u001B[0;32m      2\u001B[0m \u001B[1;32mfrom\u001B[0m \u001B[0mHelper\u001B[0m\u001B[1;33m.\u001B[0m\u001B[0mhelp_functions\u001B[0m \u001B[1;32mimport\u001B[0m \u001B[0mcharacteristics\u001B[0m\u001B[1;33m,\u001B[0m \u001B[0misDDM\u001B[0m\u001B[1;33m,\u001B[0m  \u001B[0mrunntime_compare_df\u001B[0m\u001B[1;33m,\u001B[0m \u001B[0mprint_lgs\u001B[0m\u001B[1;33m\u001B[0m\u001B[1;33m\u001B[0m\u001B[0m\n\u001B[1;32m----> 3\u001B[1;33m \u001B[1;32mfrom\u001B[0m \u001B[0mHelper\u001B[0m\u001B[1;33m.\u001B[0m\u001B[0mcreate_lgs\u001B[0m \u001B[1;32mimport\u001B[0m \u001B[0mcreate_block_triag\u001B[0m\u001B[1;33m,\u001B[0m \u001B[0mband_matrix\u001B[0m\u001B[1;33m,\u001B[0m \u001B[0mcreate_upper_triangular\u001B[0m\u001B[1;33m\u001B[0m\u001B[1;33m\u001B[0m\u001B[0m\n\u001B[0m",
      "\u001B[1;32m~\\DataspellProjects\\Numerik-Projekt\\Compare Methods\\Helper\\create_lgs.py\u001B[0m in \u001B[0;36m<module>\u001B[1;34m\u001B[0m\n\u001B[0;32m      1\u001B[0m \u001B[1;32mimport\u001B[0m \u001B[0mnumpy\u001B[0m \u001B[1;32mas\u001B[0m \u001B[0mnp\u001B[0m\u001B[1;33m\u001B[0m\u001B[1;33m\u001B[0m\u001B[0m\n\u001B[0;32m      2\u001B[0m \u001B[1;32mfrom\u001B[0m \u001B[0mscipy\u001B[0m\u001B[1;33m.\u001B[0m\u001B[0msparse\u001B[0m \u001B[1;32mimport\u001B[0m \u001B[0mdiags\u001B[0m\u001B[1;33m\u001B[0m\u001B[1;33m\u001B[0m\u001B[0m\n\u001B[1;32m----> 3\u001B[1;33m \u001B[1;32mimport\u001B[0m \u001B[0mhelp_functions\u001B[0m \u001B[1;32mas\u001B[0m \u001B[0mhelp\u001B[0m\u001B[1;33m\u001B[0m\u001B[1;33m\u001B[0m\u001B[0m\n\u001B[0m\u001B[0;32m      4\u001B[0m \u001B[1;33m\u001B[0m\u001B[0m\n\u001B[0;32m      5\u001B[0m \u001B[1;32mdef\u001B[0m \u001B[0mcreate_block_triag\u001B[0m\u001B[1;33m(\u001B[0m\u001B[0mn\u001B[0m\u001B[1;33m)\u001B[0m\u001B[1;33m:\u001B[0m\u001B[1;33m\u001B[0m\u001B[1;33m\u001B[0m\u001B[0m\n",
      "\u001B[1;31mModuleNotFoundError\u001B[0m: No module named 'help_functions'"
     ]
    }
   ],
   "source": [
    "from Methods.methods import jacobi, sor, gauss_seidel, gauss, comp_w, error\n",
    "from Helper.help_functions import characteristics, isDDM,  runntime_compare_df, print_lgs\n",
    "from Helper.create_lgs import create_block_triag, band_matrix, create_upper_triangular"
   ],
   "metadata": {
    "collapsed": false,
    "pycharm": {
     "name": "#%%\n"
    }
   }
  },
  {
   "cell_type": "code",
   "execution_count": null,
   "outputs": [],
   "source": [
    "mat, jac_it, gasei_it, sor_it, gael_it = [],[],[],[],[]\n",
    "jac_time, gasei_time, sor_time_arr, gael_time = [],[],[],[]\n",
    "jac_error, gasei_error, sor_error, gael_error = [],[],[],[]\n",
    "\n",
    "normen = [None, 'inf', 0, 1, 2]  # 2-Norm, Maximumsnorm, sum(x!=0), 1-Norm\n",
    "\n",
    "max_iter = 10000000\n",
    "range = [2,4,5,10,20]"
   ],
   "metadata": {
    "collapsed": false,
    "pycharm": {
     "name": "#%%\n"
    }
   }
  },
  {
   "cell_type": "code",
   "execution_count": null,
   "outputs": [],
   "source": [
    "for n in range:\n",
    "    A,b  = create_block_triag(n)\n",
    "\n",
    "    #A, b = band_matrix(n=n)\n",
    "    #A,b=create_mat(n=n)\n",
    "    print(f\"Run: {n}\")\n",
    "    w =comp_w(A) # 1.25\n",
    "    true_sol = npl.solve(A, b)\n",
    "    jac_erg, k_jacobi = jacobi(A,b, iter=max_iter)\n",
    "    t_j = Timer(lambda:jacobi(A,b, iter=max_iter))\n",
    "    gauss_seidel_erg, k_gauss_seidel = gauss_seidel(A, b, iter=max_iter)\n",
    "    gs_t = Timer(lambda:gauss_seidel(A,b, iter=max_iter))\n",
    "    sor_erg, k_sor = sor(A, b,w, iter=max_iter)\n",
    "    sor_t = Timer(lambda:sor(A,b,w, iter=max_iter))\n",
    "    gauss_elim_erg, c = gauss(A=A,B=b)\n",
    "    t_ge = Timer(lambda:gauss(A,b))\n",
    "    # iteration\n",
    "    mat.append(n)\n",
    "    jac_it.append(k_jacobi)\n",
    "    gasei_it.append(k_gauss_seidel)\n",
    "    sor_it.append(k_sor)\n",
    "    gael_it.append(c)\n",
    "    # error\n",
    "    jac_error.append(error(jac_erg, true_sol))\n",
    "    gasei_error.append(error(gauss_seidel_erg, true_sol))\n",
    "    sor_error.append(error(sor_erg, true_sol))\n",
    "    gael_error.append(error(gauss_elim_erg, true_sol))\n",
    "    # timer\n",
    "    jac_time.append(\"{:.3E}\".format((t_j.timeit(1))))\n",
    "    gasei_time.append(\"{:.3E}\".format((gs_t.timeit(1))))\n",
    "    sor_time_arr.append(\"{:.3E}\".format((sor_t.timeit(1))))\n",
    "    gael_time.append(\"{:.3E}\".format((t_ge.timeit(1))))"
   ],
   "metadata": {
    "collapsed": false,
    "pycharm": {
     "name": "#%%\n"
    }
   }
  },
  {
   "cell_type": "code",
   "execution_count": null,
   "outputs": [],
   "source": [
    "df = runntime_compare_df(mat, jac_it, gasei_it, sor_it, gael_it,jac_time, gasei_time, sor_time_arr, gael_time)"
   ],
   "metadata": {
    "collapsed": false,
    "pycharm": {
     "name": "#%%\n"
    }
   }
  },
  {
   "cell_type": "code",
   "execution_count": null,
   "outputs": [],
   "source": [
    "df"
   ],
   "metadata": {
    "collapsed": false,
    "pycharm": {
     "name": "#%%\n"
    }
   }
  },
  {
   "cell_type": "code",
   "execution_count": null,
   "outputs": [],
   "source": [
    "df_error = runntime_compare_df(mat, jac_it, gasei_it, sor_it, gael_it,\n",
    "                               jac_time=jac_error, gasei_time=gasei_error, sor_time_arr=sor_error, gael_time=gael_error, label = \"Fehler\")"
   ],
   "metadata": {
    "collapsed": false,
    "pycharm": {
     "name": "#%%\n"
    }
   }
  },
  {
   "cell_type": "code",
   "execution_count": null,
   "outputs": [],
   "source": [
    "df_error"
   ],
   "metadata": {
    "collapsed": false,
    "pycharm": {
     "name": "#%%\n"
    }
   }
  },
  {
   "cell_type": "code",
   "execution_count": null,
   "outputs": [],
   "source": [
    "plt.figure(figsize=(10,6))\n",
    "plt.plot(mat, [float(e)for e in jac_time], label= \"JAC\",  linewidth=3)\n",
    "plt.plot(mat, [float(e)  for e in gasei_time], label= \"GS\",  linewidth=3)\n",
    "plt.plot( mat, [float(e) for e in sor_time_arr], label= \"SOR\",  linewidth=3,c=\"green\")\n",
    "plt.plot( mat, [float(e) for e in gael_time],  label= \"Gauß Elimination\",  linewidth=3,c=\"red\")\n",
    "\n",
    "plt.title('Laufzeitvergleich', fontweight='bold', fontsize=17, pad=20)\n",
    "plt.xticks(rotation='0', fontsize=14)\n",
    "plt.yticks(rotation='0', fontsize=14)\n",
    "plt.xlabel('Matrixgröße (nxn)', fontsize=14, labelpad=15, weight ='bold')\n",
    "plt.ylabel('Laufzeit (s)', fontsize=14, labelpad=15, weight ='bold')\n",
    "plt.legend(frameon=True,loc='upper left', shadow=True)\n",
    "plt.tight_layout(h_pad=3.0)\n",
    "plt.show()"
   ],
   "metadata": {
    "collapsed": false,
    "pycharm": {
     "name": "#%%\n"
    }
   }
  },
  {
   "cell_type": "code",
   "execution_count": null,
   "outputs": [],
   "source": [
    "plt.figure(figsize=(10,6))\n",
    "plt.plot(mat, [float(e)for e in jac_error], label= \"JAC\",  linewidth=3)\n",
    "plt.plot(mat, [float(e)  for e in gasei_error], label= \"GS\",  linewidth=3)\n",
    "plt.plot( mat, [float(e) for e in sor_error], label= \"SOR\",  linewidth=3,c=\"green\")\n",
    "plt.plot( mat, [float(e) for e in gael_error],  label= \"Gauß Elimination\",  linewidth=3, c=\"red\")\n",
    "\n",
    "plt.title('Fehlervergleich', fontweight='bold', fontsize=17, pad=20)\n",
    "plt.xticks(rotation='0', fontsize=14)\n",
    "plt.yticks(rotation='0', fontsize=14)\n",
    "plt.xlabel('Matrixgröße (nxn)', fontsize=14, labelpad=15, weight ='bold')\n",
    "plt.ylabel('Fehler (10E-6)', fontsize=14, labelpad=15, weight ='bold')\n",
    "plt.legend(frameon=True,loc='upper left', shadow=True)\n",
    "plt.tight_layout(h_pad=3.0)\n",
    "plt.show()"
   ],
   "metadata": {
    "collapsed": false,
    "pycharm": {
     "name": "#%%\n"
    }
   }
  },
  {
   "cell_type": "code",
   "execution_count": null,
   "outputs": [],
   "source": [
    "plt.figure(figsize=(10,6))\n",
    "w= 40\n",
    "plt.bar(mat,jac_it, label= \"JAC\",width = w)\n",
    "plt.bar(mat, gasei_it, label= \"GS\",width = w)\n",
    "plt.bar( mat, sor_it, label= \"SOR\",width = w)\n",
    "plt.bar( mat, gael_it,  label= \"Gauß Elimination\", width = w , color=\"red\")\n",
    "\n",
    "plt.title('Vergleich Iterationen', fontweight='bold', fontsize=17, pad=20)\n",
    "plt.xticks(rotation='0', fontsize=14)\n",
    "plt.yticks(rotation='0', fontsize=14)\n",
    "plt.xlabel('Matrixgröße (nxn)', fontsize=14, labelpad=15, weight ='bold')\n",
    "plt.ylabel('Iterationen', fontsize=14, labelpad=15, weight ='bold')\n",
    "plt.legend(frameon=True,loc='upper left', shadow=True)\n",
    "plt.show()"
   ],
   "metadata": {
    "collapsed": false,
    "pycharm": {
     "name": "#%%\n"
    }
   }
  },
  {
   "cell_type": "code",
   "execution_count": null,
   "outputs": [],
   "source": [
    "df_error.plot.bar(figsize=(10,6))\n",
    "plt.title('Vergleich Iterationen', fontweight='bold', fontsize=17, pad=20)\n",
    "plt.xticks(rotation='0', fontsize=14)\n",
    "plt.yticks(rotation='0', fontsize=14)\n",
    "plt.xlabel('Matrixgröße', fontsize=14, labelpad=15, weight ='bold')\n",
    "plt.ylabel('Iterationen (10E6)', fontsize=14, labelpad=15, weight ='bold')\n",
    "plt.legend(frameon=True,loc='best', shadow=True, fontsize=\"large\")\n",
    "plt.tight_layout(h_pad=3.0)\n",
    "plt.show()"
   ],
   "metadata": {
    "collapsed": false,
    "pycharm": {
     "name": "#%%\n"
    }
   }
  },
  {
   "cell_type": "code",
   "execution_count": null,
   "outputs": [],
   "source": [
    "n=20\n",
    "A = create_block_triag(n)\n",
    "b = np.ones((n))\n",
    "true_sol = npl.solve(A, b)\n",
    "\n",
    "jac_erg, k_jacobi = jacobi(A,b, iter=max_iter)\n",
    "gauss_seidel_erg, k_gauss_seidel = gauss_seidel(A, b, iter=max_iter)\n",
    "sor_erg, sor_time, k_sor = sor(A, b,w=1, iter=max_iter)\n",
    "gauss_elim_erg,c = gauss(A,b)"
   ],
   "metadata": {
    "collapsed": false,
    "pycharm": {
     "name": "#%%\n"
    }
   }
  },
  {
   "cell_type": "code",
   "execution_count": null,
   "outputs": [],
   "source": [
    "gs_fehler=np.round(gauss_seidel_erg[len(gauss_seidel_erg)-1]-true_sol,4)\n",
    "jk_fehler=np.round(jac_erg[len(jac_erg)-1]-true_sol,4)\n",
    "sor_fehler=np.round(sor_erg[len(sor_erg)-1]-true_sol,4)\n",
    "\n",
    "jr = Matrix(jk_fehler)\n",
    "gr = Matrix(gs_fehler)\n",
    "sr = Matrix(sor_fehler)\n",
    "#display(Math('\\ \\\\text{ Jacobi : }%s   \\\\text{Gauss-Seidel :} %s \\\\text{SOR :} %s' % (sym.latex(sym.simplify(jr)) , (sym.latex(sym.simplify(gr))), (sym.latex(sym.simplify(sr)))  ))   )"
   ],
   "metadata": {
    "collapsed": false,
    "pycharm": {
     "name": "#%%\n"
    }
   }
  },
  {
   "cell_type": "code",
   "execution_count": null,
   "outputs": [],
   "source": [
    "dict = {'Jacobi Verfahren': jac_erg,\n",
    "        'Gauss-Seidel Verfahren': gauss_seidel_erg,\n",
    "        \"SOR Verfahren\":sor_erg\n",
    "        }\n",
    "#label = [f'x{i}' for i in range(0,n)]\n",
    "label = [f'x0 - x{n-1} ']\n",
    "\n",
    "for verfahren_name,data in dict.items():\n",
    "\n",
    "    plt.figure(figsize=(9,6))\n",
    "    plt.plot(data) # linestyle='',marker='.'\n",
    "    #plt.axvline(x=k_sor+0.5,linestyle='--',c='red')\n",
    "    plt.title(verfahren_name, fontweight='bold', fontsize=17, pad=20)\n",
    "    plt.xticks(rotation='0', fontsize=14)\n",
    "    plt.yticks(rotation='0', fontsize=14)\n",
    "    plt.xlabel('Iteration', fontsize=14, labelpad=15, weight ='bold')\n",
    "    plt.ylabel('Wert', fontsize=14, labelpad=15, weight ='bold')\n",
    "    plt.legend(labels = label,frameon=True,loc='best', shadow=True, fontsize=\"large\")\n",
    "    plt.tight_layout(h_pad=3.0)\n",
    "    plt.grid(True)\n",
    "    plt.show()"
   ],
   "metadata": {
    "collapsed": false,
    "pycharm": {
     "name": "#%%\n"
    }
   }
  },
  {
   "cell_type": "markdown",
   "source": [
    "Ideen: LGS von n = 2 bis n = 6 mio\n",
    "\n",
    "Plot: Fehler, Wert,"
   ],
   "metadata": {
    "collapsed": false,
    "pycharm": {
     "name": "#%% md\n"
    }
   }
  }
 ],
 "metadata": {
  "kernelspec": {
   "display_name": "Python 3",
   "language": "python",
   "name": "python3"
  },
  "language_info": {
   "codemirror_mode": {
    "name": "ipython",
    "version": 2
   },
   "file_extension": ".py",
   "mimetype": "text/x-python",
   "name": "python",
   "nbconvert_exporter": "python",
   "pygments_lexer": "ipython2",
   "version": "2.7.6"
  }
 },
 "nbformat": 4,
 "nbformat_minor": 0
}