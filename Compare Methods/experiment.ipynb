{
 "cells": [
  {
   "cell_type": "code",
   "execution_count": 3,
   "outputs": [],
   "source": [
    "import numpy.linalg as npl\n",
    "import numpy as np\n",
    "import matplotlib.pyplot as plt\n",
    "from timeit import Timer\n",
    "from sympy import *\n",
    "from sympy import symbols, Matrix\n",
    "from IPython.display import display, Math\n",
    "import sympy as sym\n",
    "init_printing()"
   ],
   "metadata": {
    "collapsed": false,
    "pycharm": {
     "name": "#%%\n"
    }
   }
  },
  {
   "cell_type": "code",
   "execution_count": 4,
   "outputs": [],
   "source": [
    "from Methods.methods import jacobi, sor, gauss_seidel, gauss, comp_w, error\n",
    "from Helper.help_functions import characteristics, isDDM,  runntime_compare_df, print_lgs\n",
    "from Helper.create_lgs import create_block_triag, band_matrix, create_upper_triangular"
   ],
   "metadata": {
    "collapsed": false,
    "pycharm": {
     "name": "#%%\n"
    }
   }
  },
  {
   "cell_type": "code",
   "execution_count": 5,
   "outputs": [
    {
     "data": {
      "text/plain": "array([[ 2.3785891 ,  0.        ,  0.        , -0.08734999, -0.57765044,\n         0.        ,  0.        ,  0.        ,  0.        , -0.71358867],\n       [ 0.        ,  3.53295461,  1.00233497,  0.        ,  0.        ,\n         0.        ,  1.53061964,  0.        ,  0.        ,  0.        ],\n       [ 0.        ,  0.        ,  1.        ,  0.        ,  0.        ,\n         0.        ,  0.        ,  0.        ,  0.        ,  0.        ],\n       [ 0.        ,  0.        ,  0.        ,  3.01231722,  0.        ,\n         0.2987757 ,  0.        ,  0.        ,  0.        ,  0.        ],\n       [ 0.        ,  0.        ,  0.        ,  0.        ,  1.        ,\n         0.        ,  0.        ,  0.        ,  0.        ,  0.        ],\n       [ 0.        ,  0.        ,  0.        ,  0.        ,  0.        ,\n         3.75828983,  0.        , -1.41244091,  0.        ,  0.        ],\n       [ 0.        ,  0.        ,  0.        ,  0.        ,  0.        ,\n         0.        ,  7.7073761 ,  2.2259983 ,  0.        ,  0.        ],\n       [ 0.        ,  0.        ,  0.        ,  0.        ,  0.        ,\n         0.        ,  0.        ,  5.06505416,  0.        ,  0.        ],\n       [ 0.        ,  0.        ,  0.        ,  0.        ,  0.        ,\n         0.        ,  0.        ,  0.        ,  2.10426087,  0.19824881],\n       [ 0.        ,  0.        ,  0.        ,  0.        ,  0.        ,\n         0.        ,  0.        ,  0.        ,  0.        ,  1.44491059]])"
     },
     "execution_count": 5,
     "metadata": {},
     "output_type": "execute_result"
    }
   ],
   "source": [
    "A,b= create_upper_triangular(n=10, dens=0.25)\n",
    "A"
   ],
   "metadata": {
    "collapsed": false,
    "pycharm": {
     "name": "#%%\n"
    }
   }
  },
  {
   "cell_type": "code",
   "execution_count": 14,
   "outputs": [],
   "source": [
    "mat, jac_it, gasei_it, sor_it, gael_it = [],[],[],[],[]\n",
    "jac_time, gasei_time, sor_time_arr, gael_time = [],[],[],[]\n",
    "jac_error, gasei_error, sor_error, gael_error = [],[],[],[]\n",
    "\n",
    "normen = [None, 'inf', 0, 1, 2]  # 2-Norm, Maximumsnorm, sum(x!=0), 1-Norm\n",
    "\n",
    "max_iter = 10000000\n",
    "range = [20,50,100]"
   ],
   "metadata": {
    "collapsed": false,
    "pycharm": {
     "name": "#%%\n"
    }
   }
  },
  {
   "cell_type": "code",
   "execution_count": 15,
   "outputs": [
    {
     "name": "stdout",
     "output_type": "stream",
     "text": [
      "Run: 20\n",
      "Spektralradius der Jacobi-Matrix: 0.5988236359973128\n",
      "omega = 1.1105675974218931\n",
      "Run: 50\n",
      "Spektralradius der Jacobi-Matrix: 0.44917614041037973\n",
      "omega = 1.0562767208585764\n",
      "Run: 100\n",
      "Spektralradius der Jacobi-Matrix: 0.39060938512252036\n",
      "omega = 1.0413648222214247\n"
     ]
    }
   ],
   "source": [
    "for n in range:\n",
    "    #A,b  = create_block_triag(n)\n",
    "    #A, b = band_matrix(n=n)\n",
    "    A,b = create_upper_triangular(n=n)\n",
    "    print(f\"Run: {n}\")\n",
    "    w = comp_w(A) # 1.25\n",
    "    true_sol = npl.solve(A, b)\n",
    "    jac_erg, k_jacobi = jacobi(A,b, iter=max_iter)\n",
    "    t_j = Timer(lambda:jacobi(A,b, iter=max_iter))\n",
    "    gauss_seidel_erg, k_gauss_seidel = gauss_seidel(A, b, iter=max_iter)\n",
    "    gs_t = Timer(lambda:gauss_seidel(A,b, iter=max_iter))\n",
    "    sor_erg, k_sor = sor(A, b,w, iter=max_iter)\n",
    "    sor_t = Timer(lambda:sor(A,b,w, iter=max_iter))\n",
    "    gauss_elim_erg, c = gauss(A=A,B=b)\n",
    "    t_ge = Timer(lambda:gauss(A,b))\n",
    "    # iteration\n",
    "    mat.append(n)\n",
    "    jac_it.append(k_jacobi)\n",
    "    gasei_it.append(k_gauss_seidel)\n",
    "    sor_it.append(k_sor)\n",
    "    gael_it.append(c)\n",
    "    # error\n",
    "    jac_error.append(error(jac_erg, true_sol))\n",
    "    gasei_error.append(error(gauss_seidel_erg, true_sol))\n",
    "    sor_error.append(error(sor_erg, true_sol))\n",
    "    gael_error.append(error(gauss_elim_erg, true_sol))\n",
    "    # timer\n",
    "    jac_time.append(\"{:.3E}\".format((t_j.timeit(1))))\n",
    "    gasei_time.append(\"{:.3E}\".format((gs_t.timeit(1))))\n",
    "    sor_time_arr.append(\"{:.3E}\".format((sor_t.timeit(1))))\n",
    "    gael_time.append(\"{:.3E}\".format((t_ge.timeit(1))))"
   ],
   "metadata": {
    "collapsed": false,
    "pycharm": {
     "name": "#%%\n"
    }
   }
  },
  {
   "cell_type": "code",
   "execution_count": 16,
   "outputs": [],
   "source": [
    "df = runntime_compare_df(mat, jac_it, gasei_it, sor_it, gael_it,jac_time, gasei_time, sor_time_arr, gael_time)"
   ],
   "metadata": {
    "collapsed": false,
    "pycharm": {
     "name": "#%%\n"
    }
   }
  },
  {
   "cell_type": "code",
   "execution_count": 17,
   "outputs": [
    {
     "data": {
      "text/plain": "                 Jacobi            Gauß Seidel                    SOR  \\\n            Iterationen Zeit (sek) Iterationen Zeit (sek) Iterationen   \nMatrixgröße                                                             \n20                    5  4.739E-04           5  5.222E-04          13   \n50                   17  3.029E-03           9  1.505E-03          12   \n100                  12  3.457E-03           9  2.151E-03          11   \n\n                       Gauß Eliminierung             \n            Zeit (sek)       Iterationen Zeit (sek)  \nMatrixgröße                                          \n20           2.660E-03               190  6.589E-04  \n50           1.236E-02              1225  5.924E-03  \n100          1.847E-02              4950  2.040E-02  ",
      "text/html": "<div>\n<style scoped>\n    .dataframe tbody tr th:only-of-type {\n        vertical-align: middle;\n    }\n\n    .dataframe tbody tr th {\n        vertical-align: top;\n    }\n\n    .dataframe thead tr th {\n        text-align: left;\n    }\n\n    .dataframe thead tr:last-of-type th {\n        text-align: right;\n    }\n</style>\n<table border=\"1\" class=\"dataframe\">\n  <thead>\n    <tr>\n      <th></th>\n      <th colspan=\"2\" halign=\"left\">Jacobi</th>\n      <th colspan=\"2\" halign=\"left\">Gauß Seidel</th>\n      <th colspan=\"2\" halign=\"left\">SOR</th>\n      <th colspan=\"2\" halign=\"left\">Gauß Eliminierung</th>\n    </tr>\n    <tr>\n      <th></th>\n      <th>Iterationen</th>\n      <th>Zeit (sek)</th>\n      <th>Iterationen</th>\n      <th>Zeit (sek)</th>\n      <th>Iterationen</th>\n      <th>Zeit (sek)</th>\n      <th>Iterationen</th>\n      <th>Zeit (sek)</th>\n    </tr>\n    <tr>\n      <th>Matrixgröße</th>\n      <th></th>\n      <th></th>\n      <th></th>\n      <th></th>\n      <th></th>\n      <th></th>\n      <th></th>\n      <th></th>\n    </tr>\n  </thead>\n  <tbody>\n    <tr>\n      <th>20</th>\n      <td>5</td>\n      <td>4.739E-04</td>\n      <td>5</td>\n      <td>5.222E-04</td>\n      <td>13</td>\n      <td>2.660E-03</td>\n      <td>190</td>\n      <td>6.589E-04</td>\n    </tr>\n    <tr>\n      <th>50</th>\n      <td>17</td>\n      <td>3.029E-03</td>\n      <td>9</td>\n      <td>1.505E-03</td>\n      <td>12</td>\n      <td>1.236E-02</td>\n      <td>1225</td>\n      <td>5.924E-03</td>\n    </tr>\n    <tr>\n      <th>100</th>\n      <td>12</td>\n      <td>3.457E-03</td>\n      <td>9</td>\n      <td>2.151E-03</td>\n      <td>11</td>\n      <td>1.847E-02</td>\n      <td>4950</td>\n      <td>2.040E-02</td>\n    </tr>\n  </tbody>\n</table>\n</div>"
     },
     "execution_count": 17,
     "metadata": {},
     "output_type": "execute_result"
    }
   ],
   "source": [
    "df"
   ],
   "metadata": {
    "collapsed": false,
    "pycharm": {
     "name": "#%%\n"
    }
   }
  },
  {
   "cell_type": "code",
   "execution_count": 18,
   "outputs": [],
   "source": [
    "df_error = runntime_compare_df(mat, jac_it, gasei_it, sor_it, gael_it,\n",
    "                               jac_time=jac_error, gasei_time=gasei_error, sor_time_arr=sor_error, gael_time=gael_error, label=\"Fehler\")"
   ],
   "metadata": {
    "collapsed": false,
    "pycharm": {
     "name": "#%%\n"
    }
   }
  },
  {
   "cell_type": "code",
   "execution_count": 19,
   "outputs": [
    {
     "data": {
      "text/plain": "                 Jacobi            Gauß Seidel                    SOR  \\\n            Iterationen     Fehler Iterationen     Fehler Iterationen   \nMatrixgröße                                                             \n20                    5  5.440E+00           5  8.153E-17          13   \n50                   17  8.666E+00           9  2.935E-11          12   \n100                  12  2.053E+00           9  1.158E-11          11   \n\n                       Gauß Eliminierung             \n                Fehler       Iterationen     Fehler  \nMatrixgröße                                          \n20           3.574E-11               190  8.327E+00  \n50           2.259E-11              1225  6.022E+00  \n100          2.232E-11              4950  1.396E+01  ",
      "text/html": "<div>\n<style scoped>\n    .dataframe tbody tr th:only-of-type {\n        vertical-align: middle;\n    }\n\n    .dataframe tbody tr th {\n        vertical-align: top;\n    }\n\n    .dataframe thead tr th {\n        text-align: left;\n    }\n\n    .dataframe thead tr:last-of-type th {\n        text-align: right;\n    }\n</style>\n<table border=\"1\" class=\"dataframe\">\n  <thead>\n    <tr>\n      <th></th>\n      <th colspan=\"2\" halign=\"left\">Jacobi</th>\n      <th colspan=\"2\" halign=\"left\">Gauß Seidel</th>\n      <th colspan=\"2\" halign=\"left\">SOR</th>\n      <th colspan=\"2\" halign=\"left\">Gauß Eliminierung</th>\n    </tr>\n    <tr>\n      <th></th>\n      <th>Iterationen</th>\n      <th>Fehler</th>\n      <th>Iterationen</th>\n      <th>Fehler</th>\n      <th>Iterationen</th>\n      <th>Fehler</th>\n      <th>Iterationen</th>\n      <th>Fehler</th>\n    </tr>\n    <tr>\n      <th>Matrixgröße</th>\n      <th></th>\n      <th></th>\n      <th></th>\n      <th></th>\n      <th></th>\n      <th></th>\n      <th></th>\n      <th></th>\n    </tr>\n  </thead>\n  <tbody>\n    <tr>\n      <th>20</th>\n      <td>5</td>\n      <td>5.440E+00</td>\n      <td>5</td>\n      <td>8.153E-17</td>\n      <td>13</td>\n      <td>3.574E-11</td>\n      <td>190</td>\n      <td>8.327E+00</td>\n    </tr>\n    <tr>\n      <th>50</th>\n      <td>17</td>\n      <td>8.666E+00</td>\n      <td>9</td>\n      <td>2.935E-11</td>\n      <td>12</td>\n      <td>2.259E-11</td>\n      <td>1225</td>\n      <td>6.022E+00</td>\n    </tr>\n    <tr>\n      <th>100</th>\n      <td>12</td>\n      <td>2.053E+00</td>\n      <td>9</td>\n      <td>1.158E-11</td>\n      <td>11</td>\n      <td>2.232E-11</td>\n      <td>4950</td>\n      <td>1.396E+01</td>\n    </tr>\n  </tbody>\n</table>\n</div>"
     },
     "execution_count": 19,
     "metadata": {},
     "output_type": "execute_result"
    }
   ],
   "source": [
    "df_error"
   ],
   "metadata": {
    "collapsed": false,
    "pycharm": {
     "name": "#%%\n"
    }
   }
  },
  {
   "cell_type": "code",
   "execution_count": 20,
   "outputs": [
    {
     "data": {
      "text/plain": "<Figure size 720x432 with 1 Axes>",
      "image/png": "[encoded data removed]"
     },
     "metadata": {
      "needs_background": "light"
     },
     "output_type": "display_data"
    }
   ],
   "source": [
    "plt.figure(figsize=(10,6))\n",
    "plt.plot(mat, [float(e)for e in jac_time], label= \"JAC\",  linewidth=3)\n",
    "plt.plot(mat, [float(e)  for e in gasei_time], label= \"GS\",  linewidth=3)\n",
    "plt.plot( mat, [float(e) for e in sor_time_arr], label= \"SOR\",  linewidth=3,c=\"green\")\n",
    "plt.plot( mat, [float(e) for e in gael_time],  label= \"Gauß Elimination\",  linewidth=3,c=\"red\")\n",
    "\n",
    "plt.title('Laufzeitvergleich', fontweight='bold', fontsize=17, pad=20)\n",
    "plt.xticks(rotation='0', fontsize=14)\n",
    "plt.yticks(rotation='0', fontsize=14)\n",
    "plt.xlabel('Matrixgröße (nxn)', fontsize=14, labelpad=15, weight ='bold')\n",
    "plt.ylabel('Laufzeit (s)', fontsize=14, labelpad=15, weight ='bold')\n",
    "plt.legend(frameon=True,loc='upper left', shadow=True)\n",
    "plt.tight_layout(h_pad=3.0)\n",
    "plt.grid()\n",
    "plt.show()"
   ],
   "metadata": {
    "collapsed": false,
    "pycharm": {
     "name": "#%%\n"
    }
   }
  },
  {
   "cell_type": "code",
   "execution_count": null,
   "outputs": [],
   "source": [
    "plt.figure(figsize=(10,6))\n",
    "plt.plot(mat, [float(e)for e in jac_error], label= \"JAC\",  linewidth=3)\n",
    "plt.plot(mat, [float(e)  for e in gasei_error], label= \"GS\",  linewidth=3)\n",
    "plt.plot( mat, [float(e) for e in sor_error], label= \"SOR\",  linewidth=3,c=\"green\")\n",
    "plt.plot( mat, [float(e) for e in gael_error],  label= \"Gauß Elimination\",  linewidth=3, c=\"red\")\n",
    "\n",
    "plt.title('Fehlervergleich', fontweight='bold', fontsize=17, pad=20)\n",
    "plt.xticks(rotation='0', fontsize=14)\n",
    "plt.yticks(rotation='0', fontsize=14)\n",
    "plt.xlabel('Matrixgröße (nxn)', fontsize=14, labelpad=15, weight ='bold')\n",
    "plt.ylabel('Fehler (10E-6)', fontsize=14, labelpad=15, weight ='bold')\n",
    "plt.legend(frameon=True,loc='upper left', shadow=True)\n",
    "plt.tight_layout(h_pad=3.0)\n",
    "plt.grid()\n",
    "plt.show()"
   ],
   "metadata": {
    "collapsed": false,
    "pycharm": {
     "name": "#%%\n"
    }
   }
  },
  {
   "cell_type": "code",
   "execution_count": null,
   "outputs": [],
   "source": [
    "plt.figure(figsize=(10,6))\n",
    "w= 20\n",
    "plt.bar(mat,jac_it, label= \"JAC\",width = w)\n",
    "plt.bar(mat, gasei_it, label= \"GS\",width = w)\n",
    "plt.bar( mat, sor_it, label= \"SOR\",width = w)\n",
    "plt.bar( mat, gael_it,  label= \"Gauß Elimination\", width = w , color=\"red\")\n",
    "\n",
    "plt.title('Vergleich Iterationen', fontweight='bold', fontsize=17, pad=20)\n",
    "plt.xticks(rotation='0', fontsize=14)\n",
    "plt.yticks(rotation='0', fontsize=14)\n",
    "plt.xlabel('Matrixgröße (nxn)', fontsize=14, labelpad=15, weight ='bold')\n",
    "plt.ylabel('Iterationen', fontsize=14, labelpad=15, weight ='bold')\n",
    "plt.legend(frameon=True,loc='upper left', shadow=True)\n",
    "plt.grid()\n",
    "plt.show()"
   ],
   "metadata": {
    "collapsed": false,
    "pycharm": {
     "name": "#%%\n"
    }
   }
  },
  {
   "cell_type": "code",
   "execution_count": null,
   "outputs": [],
   "source": [
    "df_error.plot.bar(figsize=(10,6))\n",
    "plt.title('Vergleich Iterationen', fontweight='bold', fontsize=17, pad=20)\n",
    "plt.xticks(rotation='0', fontsize=14)\n",
    "plt.yticks(rotation='0', fontsize=14)\n",
    "plt.xlabel('Matrixgröße', fontsize=14, labelpad=15, weight ='bold')\n",
    "plt.ylabel('Iterationen (10E6)', fontsize=14, labelpad=15, weight ='bold')\n",
    "plt.legend(frameon=True,loc='best', shadow=True, fontsize=\"large\")\n",
    "plt.tight_layout(h_pad=3.0)\n",
    "plt.grid()\n",
    "plt.show()"
   ],
   "metadata": {
    "collapsed": false,
    "pycharm": {
     "name": "#%%\n"
    }
   }
  },
  {
   "cell_type": "code",
   "execution_count": null,
   "outputs": [],
   "source": [
    "n=20\n",
    "A,b = create_block_triag(n)\n",
    "true_sol = npl.solve(A, b)\n",
    "\n",
    "jac_erg, k_jacobi = jacobi(A,b, iter=max_iter)\n",
    "gauss_seidel_erg, k_gauss_seidel = gauss_seidel(A, b, iter=max_iter)\n",
    "sor_erg, k_sor = sor(A, b,w=1, iter=max_iter)\n",
    "gauss_elim_erg,c = gauss(A,b)"
   ],
   "metadata": {
    "collapsed": false,
    "pycharm": {
     "name": "#%%\n"
    }
   }
  },
  {
   "cell_type": "code",
   "execution_count": null,
   "outputs": [],
   "source": [
    "gs_fehler=np.round(gauss_seidel_erg[len(gauss_seidel_erg)-1]-true_sol,4)\n",
    "jk_fehler=np.round(jac_erg[len(jac_erg)-1]-true_sol,4)\n",
    "sor_fehler=np.round(sor_erg[len(sor_erg)-1]-true_sol,4)\n",
    "\n",
    "jr = Matrix(jk_fehler)\n",
    "gr = Matrix(gs_fehler)\n",
    "sr = Matrix(sor_fehler)\n",
    "display(Math('\\ \\\\text{ Jacobi : }%s   \\\\text{Gauss-Seidel :} %s \\\\text{SOR :} %s' % (sym.latex(sym.simplify(jr)) , (sym.latex(sym.simplify(gr))), (sym.latex(sym.simplify(sr)))  ))   )"
   ],
   "metadata": {
    "collapsed": false,
    "pycharm": {
     "name": "#%%\n"
    }
   }
  },
  {
   "cell_type": "code",
   "execution_count": null,
   "outputs": [],
   "source": [
    "dict = {'Jacobi Verfahren': jac_erg,\n",
    "        'Gauss-Seidel Verfahren': gauss_seidel_erg,\n",
    "        \"SOR Verfahren\":sor_erg\n",
    "        }\n",
    "#label = [f'x{i}' for i in range(0,n)]\n",
    "label = [f'x0 - x{n-1} ']\n",
    "\n",
    "for name,data in dict.items():\n",
    "    plt.figure(figsize=(9,6))\n",
    "    plt.plot(data) # linestyle='',marker='.'\n",
    "    #plt.axvline(x=k_sor+0.5,linestyle='--',c='red')\n",
    "    plt.title(name, fontweight='bold', fontsize=17, pad=20)\n",
    "    plt.xticks(rotation='0', fontsize=14)\n",
    "    plt.yticks(rotation='0', fontsize=14)\n",
    "    plt.xlabel('Iteration', fontsize=14, labelpad=15, weight ='bold')\n",
    "    plt.ylabel('Wert', fontsize=14, labelpad=15, weight ='bold')\n",
    "    plt.legend(labels = label,frameon=True,loc='best', shadow=True, fontsize=\"large\")\n",
    "    plt.tight_layout(h_pad=3.0)\n",
    "    plt.grid(True)\n",
    "    plt.show()"
   ],
   "metadata": {
    "collapsed": false,
    "pycharm": {
     "name": "#%%\n"
    }
   }
  }
 ],
 "metadata": {
  "kernelspec": {
   "display_name": "Python 3",
   "language": "python",
   "name": "python3"
  },
  "language_info": {
   "codemirror_mode": {
    "name": "ipython",
    "version": 2
   },
   "file_extension": ".py",
   "mimetype": "text/x-python",
   "name": "python",
   "nbconvert_exporter": "python",
   "pygments_lexer": "ipython2",
   "version": "2.7.6"
  }
 },
 "nbformat": 4,
 "nbformat_minor": 0
}