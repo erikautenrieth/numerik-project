{
 "cells": [
  {
   "cell_type": "code",
   "execution_count": 1,
   "metadata": {
    "collapsed": true,
    "pycharm": {
     "name": "#%%\n"
    }
   },
   "outputs": [],
   "source": [
    "import autograd.numpy as np\n",
    "from autograd import grad, jacobian\n",
    "import numpy as np\n",
    "import time\n",
    "import  math\n",
    "from numpy.linalg import inv\n",
    "import numpy.linalg as npl\n",
    "import numpy.random as npr\n",
    "from scipy import linalg\n",
    "from scipy.sparse import diags\n",
    "import pandas as pd\n",
    "\n",
    "import cufflinks as cf\n",
    "import seaborn as sns\n",
    "import matplotlib.pyplot as plt"
   ]
  },
  {
   "cell_type": "code",
   "execution_count": null,
   "outputs": [],
   "source": [
    "# A = ([ [2,-1,0],\n",
    "#        [-1,2,-1],\n",
    "#        [0,-1,2]])\n",
    "#\n",
    "# b = np.array([2,-3,4])\n",
    "#\n",
    "# true_sol = npl.solve(A, b)\n",
    "# print(true_sol)"
   ],
   "metadata": {
    "collapsed": false,
    "pycharm": {
     "name": "#%%\n"
    }
   }
  },
  {
   "cell_type": "code",
   "execution_count": 6,
   "outputs": [],
   "source": [
    "# x = np.array([5,3], dtype=float)\n",
    "#\n",
    "# def cost(x):\n",
    "#     return x[0]**2 / x[1] - np.log(x[1])\n",
    "#\n",
    "# gradient_cost = grad(cost)\n",
    "# jacobian_cost = jacobian(cost)\n",
    "#\n",
    "# gradient_cost(x)\n",
    "# jacobian_cost(np.array([x,x,x]))"
   ],
   "metadata": {
    "collapsed": false,
    "pycharm": {
     "name": "#%%\n"
    }
   }
  },
  {
   "cell_type": "code",
   "execution_count": 7,
   "outputs": [
    {
     "name": "stdout",
     "output_type": "stream",
     "text": [
      "The slowest run took 7.32 times longer than the fastest. This could mean that an intermediate result is being cached.\n",
      "451 ns ± 501 ns per loop (mean ± std. dev. of 7 runs, 1000000 loops each)\n"
     ]
    }
   ],
   "source": [
    "n =5\n",
    "%timeit n**2"
   ],
   "metadata": {
    "collapsed": false,
    "pycharm": {
     "name": "#%%\n"
    }
   }
  },
  {
   "cell_type": "code",
   "execution_count": 8,
   "outputs": [
    {
     "name": "stdout",
     "output_type": "stream",
     "text": [
      "101 µs ± 48 µs per loop (mean ± std. dev. of 7 runs, 10000 loops each)\n"
     ]
    }
   ],
   "source": [
    "%%timeit\n",
    "summe = 0\n",
    "for n in range(1000):\n",
    "    summe = summe+n"
   ],
   "metadata": {
    "collapsed": false,
    "pycharm": {
     "name": "#%%\n"
    }
   }
  },
  {
   "cell_type": "code",
   "execution_count": null,
   "outputs": [],
   "source": [
    "# nxn random matrix\n",
    "\n",
    "#A = npr.rand(n, n)\n",
    "#b = np.random.rand((n))\n",
    "\n",
    "#A = np.random.rand(10, size=(n, n))\n",
    "#b = np.random.rand(10, size=(n))"
   ],
   "metadata": {
    "collapsed": false,
    "pycharm": {
     "name": "#%%\n"
    }
   }
  },
  {
   "cell_type": "code",
   "execution_count": null,
   "outputs": [],
   "source": [
    "import pstats"
   ],
   "metadata": {
    "collapsed": false,
    "pycharm": {
     "name": "#%%\n"
    }
   }
  },
  {
   "cell_type": "code",
   "execution_count": 9,
   "outputs": [
    {
     "data": {
      "text/plain": "<Figure size 432x288 with 1 Axes>",
      "image/png": "[encoded data removed]"
     },
     "metadata": {},
     "output_type": "display_data"
    }
   ],
   "source": [
    "import numpy as np\n",
    "import math\n",
    "import timeit\n",
    "import matplotlib.pyplot as plt\n",
    "\n",
    "def f_numpy(nmax):\n",
    "    x = np.linspace(0, np.pi, nmax)\n",
    "    result = np.sin(x)\n",
    "\n",
    "def f_math(nmax):\n",
    "    dx = math.pi/(nmax-1)\n",
    "    result = [math.sin(n*dx) for n in range(nmax)]\n",
    "\n",
    "x = []\n",
    "y = []\n",
    "for n in np.logspace(0.31, 6, 20):\n",
    "    nint = int(n)\n",
    "    t_numpy = timeit.timeit(\"f_numpy({})\".format(nint),\n",
    "                            \"from __main__ import f_numpy\",\n",
    "                            number=20)\n",
    "    t_math = timeit.timeit(\"f_math({})\".format(nint),\n",
    "                           \"from __main__ import f_math\",\n",
    "                           number=20)\n",
    "    x.append(nint)\n",
    "    y.append(t_math/t_numpy)\n",
    "plt.plot(x, y)\n",
    "plt.xscale(\"log\")\n",
    "plt.show()"
   ],
   "metadata": {
    "collapsed": false,
    "pycharm": {
     "name": "#%%\n"
    }
   }
  },
  {
   "cell_type": "code",
   "execution_count": null,
   "outputs": [],
   "source": [
    "A= np.array([[10,-1,2,0],\n",
    "             [-1,11,-1,3],\n",
    "             [2,-1,10,-1],\n",
    "             [0,3,-1,8]])\n",
    "b = np.array([6,25,-11,15])\n",
    "true_sol = npl.solve(A, b)\n",
    "\n",
    "true_sol"
   ],
   "metadata": {
    "collapsed": false,
    "pycharm": {
     "name": "#%%\n"
    }
   }
  },
  {
   "cell_type": "code",
   "execution_count": null,
   "outputs": [],
   "source": [
    "A = ([ [1,2,1],\n",
    "       [2,5,2],\n",
    "       [1,2,10]])\n",
    "\n",
    "b = np.ones((3))\n",
    "\n",
    "true_sol = npl.solve(A, b)\n",
    "print(true_sol)"
   ],
   "metadata": {
    "collapsed": false,
    "pycharm": {
     "name": "#%%\n"
    }
   }
  }
 ],
 "metadata": {
  "kernelspec": {
   "display_name": "Python 3",
   "language": "python",
   "name": "python3"
  },
  "language_info": {
   "codemirror_mode": {
    "name": "ipython",
    "version": 2
   },
   "file_extension": ".py",
   "mimetype": "text/x-python",
   "name": "python",
   "nbconvert_exporter": "python",
   "pygments_lexer": "ipython2",
   "version": "2.7.6"
  }
 },
 "nbformat": 4,
 "nbformat_minor": 0
}