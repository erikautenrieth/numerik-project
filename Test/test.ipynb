{
 "cells": [
  {
   "cell_type": "code",
   "execution_count": null,
   "metadata": {
    "collapsed": true,
    "pycharm": {
     "name": "#%%\n"
    }
   },
   "outputs": [],
   "source": [
    "import autograd.numpy as np\n",
    "from autograd import grad, jacobian\n",
    "\n",
    "\n",
    "x = np.array([5,3], dtype=float)\n",
    "\n",
    "def cost(x):\n",
    "    return x[0]**2 / x[1] - np.log(x[1])\n",
    "\n",
    "gradient_cost = grad(cost)\n",
    "jacobian_cost = jacobian(cost)\n",
    "\n",
    "gradient_cost(x)\n",
    "jacobian_cost(np.array([x,x,x]))"
   ]
  }
 ],
 "metadata": {
  "kernelspec": {
   "display_name": "Python 3",
   "language": "python",
   "name": "python3"
  },
  "language_info": {
   "codemirror_mode": {
    "name": "ipython",
    "version": 2
   },
   "file_extension": ".py",
   "mimetype": "text/x-python",
   "name": "python",
   "nbconvert_exporter": "python",
   "pygments_lexer": "ipython2",
   "version": "2.7.6"
  }
 },
 "nbformat": 4,
 "nbformat_minor": 0
}