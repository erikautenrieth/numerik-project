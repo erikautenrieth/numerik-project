{
 "cells": [
  {
   "cell_type": "code",
   "execution_count": null,
   "outputs": [],
   "source": [
    "import numpy as np"
   ],
   "metadata": {
    "collapsed": false,
    "pycharm": {
     "name": "#%%\n"
    }
   }
  },
  {
   "cell_type": "code",
   "execution_count": null,
   "outputs": [],
   "source": [
    "def matrix_setup(n):\n",
    "    N = n**2 # Number of points\n",
    "    h = 1./(n+1) # gridspacing\n",
    "    A = np.zeros([N, N]) # initialise A\n",
    "\n",
    "    #Diagonals\n",
    "    lead_diag = np.diag(np.ones(N)*-4, 0)\n",
    "    outer_diags = np.ones(N-1)\n",
    "    for i in range(n-1, N-1, n):\n",
    "        outer_diags[i] = 0\n",
    "    outer_diags = np.diag(outer_diags, 1) + np.diag(outer_diags, -1)\n",
    "\n",
    "    #Diagonals dependent on n\n",
    "    n_diags = np.diag(np.ones(N-n), n) + np.diag(np.ones(N-n), -n)\n",
    "\n",
    "    #Populate A matrix\n",
    "    A += lead_diag + outer_diags + n_diags\n",
    "    A = A/(h**2)\n",
    "\n",
    "    #Populate the RHS b matrix\n",
    "    b=np.zeros(N)\n",
    "    b[(N-1)/2]=2\n",
    "\n",
    "    return A,b # The matrix problem A.u = b can now be solved to give a solution to the PDE."
   ],
   "metadata": {
    "collapsed": false,
    "pycharm": {
     "name": "#%%\n"
    }
   }
  },
  {
   "cell_type": "code",
   "execution_count": null,
   "outputs": [],
   "source": [
    "def d2_mat_dirichlet_2d(nx, ny, dx, dy):\n",
    "    \"\"\"\n",
    "    Constructs the matrix for the centered second-order accurate\n",
    "    second-order derivative for Dirichlet boundary conditions in 2D\n",
    "\n",
    "    Parameters\n",
    "    ----------\n",
    "    nx : integer\n",
    "        number of grid points in the x direction\n",
    "    ny : integer\n",
    "        number of grid points in the y direction\n",
    "    dx : float\n",
    "        grid spacing in the x direction\n",
    "    dy : float\n",
    "        grid spacing in the y direction\n",
    "\n",
    "    Returns\n",
    "    -------\n",
    "    d2mat : numpy.ndarray\n",
    "        matrix to compute the centered second-order accurate first-order deri-\n",
    "        vative with Dirichlet boundary conditions\n",
    "    \"\"\"\n",
    "    a = 1.0 / dx**2\n",
    "    g = 1.0 / dy**2\n",
    "    c = -2.0*a - 2.0*g\n",
    "\n",
    "    diag_a = a * np.ones((nx-2)*(ny-2)-1)\n",
    "    diag_a[nx-3::nx-2] = 0.0\n",
    "    diag_g = g * np.ones((nx-2)*(ny-3))\n",
    "    diag_c = c * np.ones((nx-2)*(ny-2))\n",
    "\n",
    "    # We construct a sequence of main diagonal elements,\n",
    "    diagonals = [diag_g, diag_a, diag_c, diag_a, diag_g]\n",
    "    # and a sequence of positions of the diagonal entries relative to the main\n",
    "    # diagonal.\n",
    "    offsets = [-(nx-2), -1, 0, 1, nx-2]\n",
    "\n",
    "    # Call to the diags routine; note that diags return a representation of the\n",
    "    # array; to explicitly obtain its ndarray realisation, the call to .toarray()\n",
    "    # is needed. Note how the matrix has dimensions (nx-2)*(nx-2).\n",
    "    d2mat = diags(diagonals, offsets).toarray()\n",
    "\n",
    "    # Return the final array\n",
    "    return d2mat"
   ],
   "metadata": {
    "collapsed": false,
    "pycharm": {
     "name": "#%%\n"
    }
   }
  }
 ],
 "metadata": {
  "kernelspec": {
   "display_name": "Python 3",
   "language": "python",
   "name": "python3"
  },
  "language_info": {
   "codemirror_mode": {
    "name": "ipython",
    "version": 2
   },
   "file_extension": ".py",
   "mimetype": "text/x-python",
   "name": "python",
   "nbconvert_exporter": "python",
   "pygments_lexer": "ipython2",
   "version": "2.7.6"
  }
 },
 "nbformat": 4,
 "nbformat_minor": 0
}