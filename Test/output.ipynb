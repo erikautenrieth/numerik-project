{
 "cells": [
  {
   "cell_type": "code",
   "execution_count": 956,
   "outputs": [],
   "source": [
    "import time\n",
    "import numpy as np\n",
    "from numpy.linalg import inv\n",
    "import numpy.linalg as npl\n",
    "import numpy.random as npr\n",
    "from scipy import linalg\n",
    "from scipy.sparse import diags\n",
    "import pandas as pd\n",
    "\n",
    "import cufflinks as cf\n",
    "import seaborn as sns\n",
    "import matplotlib.pyplot as plt"
   ],
   "metadata": {
    "collapsed": false,
    "pycharm": {
     "name": "#%%\n"
    }
   }
  },
  {
   "cell_type": "code",
   "execution_count": 957,
   "outputs": [],
   "source": [
    "from sympy import *\n",
    "import sympy as sym\n",
    "sym.init_printing()\n",
    "from IPython.display import display, Math"
   ],
   "metadata": {
    "collapsed": false,
    "pycharm": {
     "name": "#%%\n"
    }
   }
  },
  {
   "cell_type": "code",
   "execution_count": 958,
   "outputs": [],
   "source": [
    "# nxn random matrix\n",
    "#A = npr.rand(n, n)\n",
    "#b = np.ones((n))\n",
    "\n",
    "\n",
    "n = 4\n",
    "\n",
    "A = np.random.randint(10, size=(n, n))\n",
    "b = np.random.randint(10, size=(n))"
   ],
   "metadata": {
    "collapsed": false,
    "pycharm": {
     "name": "#%%\n"
    }
   }
  },
  {
   "cell_type": "code",
   "execution_count": 959,
   "outputs": [
    {
     "name": "stdout",
     "output_type": "stream",
     "text": [
      "[ 3. -1.  0.]\n"
     ]
    }
   ],
   "source": [
    "A = ([ [1,2,1],\n",
    "       [2,5,2],\n",
    "       [1,2,10]])\n",
    "\n",
    "b = np.ones((3))\n",
    "\n",
    "true_sol = npl.solve(A, b)\n",
    "print(true_sol)"
   ],
   "metadata": {
    "collapsed": false,
    "pycharm": {
     "name": "#%%\n"
    }
   }
  },
  {
   "cell_type": "code",
   "execution_count": 960,
   "outputs": [],
   "source": [
    "# A= np.array([[10,-1,2,0],\n",
    "#             [-1,11,-1,3],\n",
    "#             [2,-1,10,-1],\n",
    "#              [0,3,-1,8]])\n",
    "# b = np.array([6,25,-11,15])\n",
    "# true_sol = npl.solve(A, b)\n",
    "#\n",
    "# true_sol"
   ],
   "metadata": {
    "collapsed": false,
    "pycharm": {
     "name": "#%%\n"
    }
   }
  },
  {
   "cell_type": "code",
   "execution_count": 961,
   "outputs": [],
   "source": [
    "def gauss_seidel(A, b, iter=30, error=10e-4):\n",
    "    start = time.time()\n",
    "    erg = []\n",
    "    [m, n] = np.shape(A)\n",
    "    x = np.zeros((m))\n",
    "    x0 = x.copy()\n",
    "    R = np.triu(A,k=1)\n",
    "    L = np.tril(A,k=-1)\n",
    "    D = np.diag(np.diag(A))\n",
    "\n",
    "    B = -(np.linalg.inv(D + L)) @ R\n",
    "    g =   (np.linalg.inv(D + L)) @ b\n",
    "\n",
    "    for k in range(iter):\n",
    "        erg.append(x)\n",
    "        x = np.dot(B,x)+g\n",
    "\n",
    "        var = abs(x0-x)\n",
    "        for el in var:\n",
    "            if el <= error:\n",
    "                print(f\"Gauss-Seidel nach {k} -Iterationen fertig.\")\n",
    "                end = time.time()\n",
    "                gauss_seidel_time = '{:5.4f}s'.format(end-start)\n",
    "                return erg, gauss_seidel_time, k\n",
    "        x0 = x.copy()\n",
    "\n",
    "\n",
    "\n",
    "\n",
    "    end = time.time()\n",
    "    gauss_seidel_time =  '{:5.4f}s'.format(end-start)\n",
    "    print('Gauß/Seidel: ', gauss_seidel_time)\n",
    "    return erg, gauss_seidel_time, k"
   ],
   "metadata": {
    "collapsed": false,
    "pycharm": {
     "name": "#%%\n"
    }
   }
  },
  {
   "cell_type": "code",
   "execution_count": 962,
   "outputs": [],
   "source": [
    "def gauss_elimination(A,b):\n",
    "    from scipy.linalg import lu_factor, lu_solve\n",
    "    start = time.time()\n",
    "    lu, piv = lu_factor(A)\n",
    "    x = lu_solve((lu, piv), b)\n",
    "\n",
    "    end = time.time()\n",
    "    gauss_elim_time = '{:5.4f}s'.format(end-start)\n",
    "\n",
    "    #print(\"piv:\", piv)\n",
    "    #print(\"lu:\", lu)\n",
    "\n",
    "    return x, gauss_elim_time"
   ],
   "metadata": {
    "collapsed": false,
    "pycharm": {
     "name": "#%%\n"
    }
   }
  },
  {
   "cell_type": "code",
   "execution_count": 963,
   "outputs": [],
   "source": [
    "def jacobi(A, b, iter=30, error=10e-4):\n",
    "    start = time.time()\n",
    "    erg = []\n",
    "    [m, n] = np.shape(A)\n",
    "    x = np.zeros((m))\n",
    "    x0 = x.copy()\n",
    "\n",
    "    D = np.diag(np.diag(A))\n",
    "    D_inv = np.linalg.inv(D)\n",
    "    B = np.dot(D_inv,D - A)\n",
    "    g = np.dot(D_inv,b)\n",
    "\n",
    "    for k in range(iter):\n",
    "        erg.append(x)\n",
    "        x = np.dot(B,x)+g\n",
    "\n",
    "        var = abs(x0-x)\n",
    "        for el in var:\n",
    "            if el <= error:\n",
    "                print(f\"Jacobi nach {k} -Iterationen fertig.\")\n",
    "                end = time.time()\n",
    "                jacobi_time = '{:5.4f}s'.format(end-start)\n",
    "                return erg, jacobi_time, k\n",
    "        x0 = x.copy()\n",
    "\n",
    "\n",
    "    end = time.time()\n",
    "    jacobi_time = '{:5.4f}s'.format(end-start)\n",
    "\n",
    "    print('Jacobi Time: ',jacobi_time)\n",
    "    return erg, jacobi_time, k"
   ],
   "metadata": {
    "collapsed": false,
    "pycharm": {
     "name": "#%%\n"
    }
   }
  },
  {
   "cell_type": "code",
   "execution_count": 964,
   "outputs": [],
   "source": [
    "def sor(A, b, w=0, iter=30):\n",
    "    # w = (0,2)\n",
    "    start = time.time()\n",
    "    erg = []\n",
    "    [m, n] = np.shape(A)\n",
    "    x = np.zeros((m))\n",
    "    R = np.triu(A,k=1)  # C2\n",
    "    L = np.tril(A,k=-1) # C1\n",
    "    D = np.diag(np.diag(A))\n",
    "\n",
    "    for k in range(iter):\n",
    "        erg.append(x)\n",
    "        x = -(np.linalg.inv(D+np.dot(w,L))) @ (np.dot(w,R) - np.dot(1-w,D)) @ x +   np.dot( w,np.linalg.inv(D + np.dot(w,L))) @ b\n",
    "\n",
    "    end = time.time()\n",
    "    sor_time = '{:5.4f}s'.format(end-start)\n",
    "    print('SOR Time: ',sor_time)\n",
    "    return erg, sor_time"
   ],
   "metadata": {
    "collapsed": false,
    "pycharm": {
     "name": "#%%\n"
    }
   }
  },
  {
   "cell_type": "code",
   "execution_count": 965,
   "outputs": [
    {
     "name": "stdout",
     "output_type": "stream",
     "text": [
      "Jacobi Time:  0.0014s\n",
      "Gauss-Seidel nach 11 -Iterationen fertig.\n",
      "SOR Time:  0.0036s\n"
     ]
    },
    {
     "data": {
      "text/plain": "             Jacobi Gauss Seidel      SOR Gauss Eliminierung\nZeit (sek)  0.0014s      0.0032s  0.0036s            0.0005s",
      "text/html": "<div>\n<style scoped>\n    .dataframe tbody tr th:only-of-type {\n        vertical-align: middle;\n    }\n\n    .dataframe tbody tr th {\n        vertical-align: top;\n    }\n\n    .dataframe thead th {\n        text-align: right;\n    }\n</style>\n<table border=\"1\" class=\"dataframe\">\n  <thead>\n    <tr style=\"text-align: right;\">\n      <th></th>\n      <th>Jacobi</th>\n      <th>Gauss Seidel</th>\n      <th>SOR</th>\n      <th>Gauss Eliminierung</th>\n    </tr>\n  </thead>\n  <tbody>\n    <tr>\n      <th>Zeit (sek)</th>\n      <td>0.0014s</td>\n      <td>0.0032s</td>\n      <td>0.0036s</td>\n      <td>0.0005s</td>\n    </tr>\n  </tbody>\n</table>\n</div>"
     },
     "execution_count": 965,
     "metadata": {},
     "output_type": "execute_result"
    }
   ],
   "source": [
    "true_sol = npl.solve(A, b)\n",
    "\n",
    "iter = 20\n",
    "jac_erg, jacobi_time, k_jacobi = jacobi(A,b, iter=iter)\n",
    "gauss_seidel_erg, gauss_seidel_time, k_gauss_seidel = gauss_seidel(A, b, iter=iter)\n",
    "sor_erg, sor_time = sor(A, b, w=2, iter=iter)\n",
    "\n",
    "gauss_elim_erg, gauss_elim_time = gauss_elimination(A,b)\n",
    "\n",
    "jac_erg.append(true_sol)\n",
    "gauss_seidel_erg.append(true_sol)\n",
    "sor_erg.append(true_sol)\n",
    "\n",
    "time_df = pd.DataFrame(columns=[\"Jacobi\", \"Gauss Seidel\", \"SOR\", \"Gauss Eliminierung\"])\n",
    "time_df.loc[0]=[ jacobi_time, gauss_seidel_time, sor_time, gauss_elim_time ]\n",
    "time_df.index = [\"Zeit (sek)\"]\n",
    "\n",
    "\n",
    "time_df"
   ],
   "metadata": {
    "collapsed": false,
    "pycharm": {
     "name": "#%%\n"
    }
   }
  },
  {
   "cell_type": "code",
   "execution_count": 966,
   "outputs": [
    {
     "data": {
      "text/plain": "<IPython.core.display.Math object>",
      "text/latex": "$\\displaystyle \\ \\text{  }\\left[\\begin{matrix}1 & 2 & 1\\\\2 & 5 & 2\\\\1 & 2 & 10\\end{matrix}\\right]   \\text{*} \\left[\\begin{matrix}x_{1}\\\\x_{2}\\\\x_{3}\\end{matrix}\\right] \\text{= } \\left[\\begin{matrix}1.0\\\\1.0\\\\1.0\\end{matrix}\\right]$"
     },
     "metadata": {},
     "output_type": "display_data"
    }
   ],
   "source": [
    "l1, l2, l3, la = symbols(\"x1 x2 x3 x\")\n",
    "l = Matrix([l1,l2,l3])\n",
    "r = Matrix(b)\n",
    "a = Matrix(A)\n",
    "display(Math('\\ \\\\text{  }%s   \\\\text{*} %s \\\\text{= } %s' % (sym.latex(sym.simplify(a)) , (sym.latex(sym.simplify(l))), (sym.latex(sym.simplify(r)))  ))   )"
   ],
   "metadata": {
    "collapsed": false,
    "pycharm": {
     "name": "#%%\n"
    }
   }
  },
  {
   "cell_type": "code",
   "execution_count": 967,
   "outputs": [
    {
     "data": {
      "text/plain": "<Figure size 648x432 with 1 Axes>",
      "image/png": "[encoded data removed]"
     },
     "metadata": {},
     "output_type": "display_data"
    }
   ],
   "source": [
    "plt.figure(figsize=(9,6))\n",
    "plt.plot(sor_erg,linestyle='',marker='o')\n",
    "plt.axvline(x=iter-0.5,linestyle='--',c='red')\n",
    "\n",
    "plt.title('SOR Verfahren', fontweight='bold', fontsize=17, pad=20)\n",
    "\n",
    "plt.xticks(rotation='0', fontsize=14)\n",
    "plt.yticks(rotation='0', fontsize=14)\n",
    "plt.xlabel('Iteration', fontsize=14, labelpad=15, weight ='bold')\n",
    "plt.ylabel('Wert', fontsize=14, labelpad=15, weight ='bold')\n",
    "plt.legend(labels = ['x1','x2','x3'],frameon=True,loc='best', shadow=True, fontsize=\"large\")\n",
    "plt.tight_layout(h_pad=3.0)\n",
    "plt.grid(True)\n",
    "plt.show()"
   ],
   "metadata": {
    "collapsed": false,
    "pycharm": {
     "name": "#%%\n"
    }
   }
  },
  {
   "cell_type": "code",
   "execution_count": 968,
   "outputs": [
    {
     "data": {
      "text/plain": "<Figure size 648x432 with 1 Axes>",
      "image/png": "[encoded data removed]"
     },
     "metadata": {},
     "output_type": "display_data"
    }
   ],
   "source": [
    "plt.figure(figsize=(9,6))\n",
    "plt.plot(gauss_seidel_erg,linestyle='',marker='o')\n",
    "plt.axvline(x=k_gauss_seidel+0.5,linestyle='--',c='red')\n",
    "\n",
    "plt.title('Gauss-Seidel Verfahren', fontweight='bold', fontsize=17, pad=20)\n",
    "plt.xticks(rotation='0', fontsize=14)\n",
    "plt.yticks(rotation='0', fontsize=14)\n",
    "plt.xlabel('Iteration', fontsize=14, labelpad=15, weight ='bold')\n",
    "plt.ylabel('Wert', fontsize=14, labelpad=15, weight ='bold')\n",
    "plt.legend(labels = ['x1','x2','x3'],frameon=True,loc='best', shadow=True, fontsize=\"large\")\n",
    "plt.tight_layout(h_pad=3.0)\n",
    "plt.grid(True)\n",
    "plt.show()"
   ],
   "metadata": {
    "collapsed": false,
    "pycharm": {
     "name": "#%%\n"
    }
   }
  },
  {
   "cell_type": "code",
   "execution_count": 969,
   "outputs": [
    {
     "data": {
      "text/plain": "<Figure size 648x432 with 1 Axes>",
      "image/png": "[encoded data removed]"
     },
     "metadata": {},
     "output_type": "display_data"
    }
   ],
   "source": [
    "plt.figure(figsize=(9,6))\n",
    "plt.plot(jac_erg,linestyle='',marker='o')\n",
    "plt.axvline(x=k_jacobi+0.5,linestyle='--',c='red')\n",
    "\n",
    "plt.title('Jacobi Verfahren', fontweight='bold', fontsize=17, pad=20)\n",
    "plt.xticks(rotation='0', fontsize=14)\n",
    "plt.yticks(rotation='0', fontsize=14)\n",
    "plt.xlabel('Iteration', fontsize=14, labelpad=15, weight ='bold')\n",
    "plt.ylabel('Wert', fontsize=14, labelpad=15, weight ='bold')\n",
    "plt.legend(labels = ['x1','x2','x3'],frameon=True,loc='best', shadow=True, fontsize=\"large\")\n",
    "plt.tight_layout(h_pad=3.0)\n",
    "plt.grid(True)\n",
    "plt.show()"
   ],
   "metadata": {
    "collapsed": false,
    "pycharm": {
     "name": "#%%\n"
    }
   }
  },
  {
   "cell_type": "markdown",
   "source": [
    "Ideen: LGS von n = 2 bis n = 6 mio\n",
    "\n",
    "Plot: Fehler, Wert,"
   ],
   "metadata": {
    "collapsed": false,
    "pycharm": {
     "name": "#%% md\n"
    }
   }
  }
 ],
 "metadata": {
  "kernelspec": {
   "display_name": "Python 3",
   "language": "python",
   "name": "python3"
  },
  "language_info": {
   "codemirror_mode": {
    "name": "ipython",
    "version": 2
   },
   "file_extension": ".py",
   "mimetype": "text/x-python",
   "name": "python",
   "nbconvert_exporter": "python",
   "pygments_lexer": "ipython2",
   "version": "2.7.6"
  }
 },
 "nbformat": 4,
 "nbformat_minor": 0
}