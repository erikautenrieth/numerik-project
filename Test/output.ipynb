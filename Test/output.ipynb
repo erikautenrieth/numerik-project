{
 "cells": [
  {
   "cell_type": "code",
   "execution_count": 1,
   "outputs": [],
   "source": [
    "import numpy as np\n",
    "from numpy.linalg import inv\n",
    "import numpy.linalg as npl\n",
    "import numpy.random as npr\n",
    "import pandas as pd\n",
    "import cufflinks as cf\n",
    "import seaborn as sns\n",
    "import matplotlib.pyplot as plt\n",
    "from timeit import Timer\n",
    "from scipy import linalg\n",
    "from scipy.sparse import diags\n",
    "from sympy import *\n",
    "import sympy as sym\n",
    "sym.init_printing()\n",
    "from IPython.display import display, Math\n",
    "from numpy.linalg import *"
   ],
   "metadata": {
    "collapsed": false,
    "pycharm": {
     "name": "#%%\n"
    }
   }
  },
  {
   "cell_type": "code",
   "execution_count": 2,
   "outputs": [],
   "source": [
    "from methods import jacobi,jacobi_2, sor,SOR_num, gauss_seidel,gauss_seidel_num, gauss, comp_w, error\n",
    "from check_matrix import characteristics, isDDM, create_block_triag, runntime_compare_df"
   ],
   "metadata": {
    "collapsed": false,
    "pycharm": {
     "name": "#%%\n"
    }
   }
  },
  {
   "cell_type": "code",
   "execution_count": 3,
   "outputs": [],
   "source": [
    "def matrix_setup(n):\n",
    "    \"\"\"\n",
    "    This function sets up the matrices A and b using the first order central differences\n",
    "    stencil to discretise Poisson's equation in 2D.\n",
    "\n",
    "    \"\"\"\n",
    "    N = n**2 # Number of points\n",
    "    h = 1./(n+1) # gridspacing\n",
    "    A = np.zeros([N, N]) # initialise A\n",
    "\n",
    "    #Diagonals\n",
    "    lead_diag = np.diag(np.ones(N)*-4, 0)\n",
    "    outer_diags = np.ones(N-1)\n",
    "    for i in range(n-1, N-1, n):\n",
    "        outer_diags[i] = 0\n",
    "    outer_diags = np.diag(outer_diags, 1) + np.diag(outer_diags, -1)\n",
    "\n",
    "    #Diagonals dependent on n\n",
    "    n_diags = np.diag(np.ones(N-n), n) + np.diag(np.ones(N-n), -n)\n",
    "\n",
    "    #Populate A matrix\n",
    "    A += lead_diag + outer_diags + n_diags\n",
    "    A = A/(h**2)\n",
    "    #Populate the RHS b matrix\n",
    "    b=np.zeros(N)\n",
    "    b[int((N-1)/2)]=2\n",
    "\n",
    "    return A,b # The matrix problem A.u = b can now be solved to give a solution to the PDE\n",
    "n=5\n",
    "A, b = matrix_setup(n)"
   ],
   "metadata": {
    "collapsed": false,
    "pycharm": {
     "name": "#%%\n"
    }
   }
  },
  {
   "cell_type": "code",
   "execution_count": 80,
   "outputs": [
    {
     "data": {
      "text/plain": "array([[ 6.21282359, -1.57600982,  1.16823743,  0.        ,  0.        ,\n        -2.16554619,  0.        ,  0.        , -0.30303016,  0.        ],\n       [ 0.        ,  1.        ,  0.        ,  0.        ,  0.        ,\n         0.        ,  0.        ,  0.        ,  0.        ,  0.        ],\n       [ 0.        , -0.22382419,  2.16131746,  0.        ,  0.        ,\n         0.19468313,  0.        ,  0.30987617, -0.43293397,  0.        ],\n       [ 0.        ,  0.        ,  0.        ,  2.00119666,  0.        ,\n         0.        ,  0.        ,  0.        ,  0.        , -1.00119666],\n       [ 0.        ,  0.        ,  0.        ,  0.        ,  2.03097246,\n         0.        ,  0.        ,  0.        ,  0.        , -1.03097246],\n       [ 0.024668  ,  0.        ,  0.        ,  0.        ,  0.        ,\n         2.1444638 ,  0.        ,  0.        , -0.495837  ,  0.6239588 ],\n       [ 0.        ,  0.        , -1.01981189,  0.        ,  2.71325695,\n         0.        ,  5.23204228,  0.        , -0.49897344,  0.        ],\n       [ 0.        ,  1.1393931 ,  0.        ,  0.        ,  0.        ,\n        -1.23070234,  0.        ,  3.37009544,  0.        ,  0.        ],\n       [ 0.        ,  0.        ,  0.6585341 ,  0.        ,  0.        ,\n         0.        ,  0.8441978 ,  0.        ,  4.0275773 , -1.5248454 ],\n       [ 0.        ,  0.        ,  0.        ,  0.        ,  0.        ,\n        -1.43419362,  1.14389556,  0.        ,  0.        ,  3.57808919]])"
     },
     "execution_count": 80,
     "metadata": {},
     "output_type": "execute_result"
    }
   ],
   "source": [
    "def create_mat(n,add=4):\n",
    "    from scipy.sparse import random\n",
    "    from scipy.stats import rv_continuous\n",
    "    from numpy.random import default_rng\n",
    "\n",
    "    class CustomDistribution(rv_continuous):\n",
    "        def _rvs(self,  size=None, random_state=None):\n",
    "            return random_state.standard_normal(size)\n",
    "    rng = default_rng()\n",
    "    X = CustomDistribution(seed=rng)\n",
    "    Y = X()  # get a frozen version of the distribution\n",
    "    S = random(n, n, density=0.25, random_state=rng, data_rvs=Y.rvs)\n",
    "    A = S.A\n",
    "\n",
    "    #A=np.random.randint(low=-20,high=20,size=(n,n))\n",
    "    for i in range(n):\n",
    "        for j in range(n):\n",
    "            if i == j:\n",
    "                A[i][j]+= sum(abs(A[i]))\n",
    "                A[i][j]+= 1\n",
    "\n",
    "    #A = np.triu(A,k=0)\n",
    "\n",
    "    B = random(n, 1, density=1.0, random_state=rng, data_rvs=Y.rvs)\n",
    "    b = B.A\n",
    "    #b = np.ones((n))\n",
    "    b=np.random.randint(low=-20,high=20,size=(n,1))\n",
    "    if  characteristics(A) == 0:\n",
    "        print(\"Determinante ist Null\")\n",
    "\n",
    "    return A, b\n",
    "\n",
    "A, b = create_mat(n=10)\n",
    "A"
   ],
   "metadata": {
    "collapsed": false,
    "pycharm": {
     "name": "#%%\n"
    }
   }
  },
  {
   "cell_type": "code",
   "execution_count": 81,
   "outputs": [
    {
     "data": {
      "text/plain": "<IPython.core.display.Math object>",
      "text/latex": "$\\displaystyle \\ \\text{  }\\left[\\begin{matrix}6.2128 & -1.576 & 1.1682 & 0 & 0 & -2.1655 & 0 & 0 & -0.303 & 0\\\\0 & 1.0 & 0 & 0 & 0 & 0 & 0 & 0 & 0 & 0\\\\0 & -0.2238 & 2.1613 & 0 & 0 & 0.1947 & 0 & 0.3099 & -0.4329 & 0\\\\0 & 0 & 0 & 2.0012 & 0 & 0 & 0 & 0 & 0 & -1.0012\\\\0 & 0 & 0 & 0 & 2.031 & 0 & 0 & 0 & 0 & -1.031\\\\0.0247 & 0 & 0 & 0 & 0 & 2.1445 & 0 & 0 & -0.4958 & 0.624\\\\0 & 0 & -1.0198 & 0 & 2.7133 & 0 & 5.232 & 0 & -0.499 & 0\\\\0 & 1.1394 & 0 & 0 & 0 & -1.2307 & 0 & 3.3701 & 0 & 0\\\\0 & 0 & 0.6585 & 0 & 0 & 0 & 0.8442 & 0 & 4.0276 & -1.5248\\\\0 & 0 & 0 & 0 & 0 & -1.4342 & 1.1439 & 0 & 0 & 3.5781\\end{matrix}\\right]   \\text{*} \\left[\\begin{matrix}x_{1}\\\\x_{2}\\\\x_{3}\\\\x..\\end{matrix}\\right] \\text{= } \\left[\\begin{matrix}-17\\\\2\\\\2\\\\15\\\\-13\\\\-8\\\\-11\\\\18\\\\3\\\\-13\\end{matrix}\\right]$"
     },
     "metadata": {},
     "output_type": "display_data"
    }
   ],
   "source": [
    "l1, l2, l3,l4, la = symbols(\"x1 x2 x3 x.. x\")\n",
    "l = Matrix([l1,l2,l3,l4])\n",
    "r = Matrix(np.round(b,4))\n",
    "a = Matrix(np.round(A,4))\n",
    "display(Math('\\ \\\\text{  }%s   \\\\text{*} %s \\\\text{= } %s' % (sym.latex(sym.simplify(a)) , (sym.latex(sym.simplify(l))), (sym.latex(sym.simplify(r))))))"
   ],
   "metadata": {
    "collapsed": false,
    "pycharm": {
     "name": "#%%\n"
    }
   }
  },
  {
   "cell_type": "code",
   "execution_count": 82,
   "outputs": [],
   "source": [
    "mat, jac_it, gasei_it, sor_it, gael_it = [],[],[],[],[]\n",
    "jac_time, gasei_time, sor_time_arr, gael_time = [],[],[],[]\n",
    "jac_error, gasei_error, sor_error, gael_error = [],[],[],[]\n",
    "\n",
    "normen = [None, 'inf', 0, 1, 2]  # 2-Norm, Maximumsnorm, sum(x!=0), 1-Norm\n",
    "max_iter = 10000000\n",
    "mat_gr = [80, 160, 320, 640, 1280]\n",
    "rg = range(10,200,20)\n",
    "rg2 = range(300,601,100)\n",
    "test_set = [4,5,10,20, 22, 25]\n",
    "test_set2 = [11,21,31,41,51]  #9,11,15,21,25,28,319,11,15,21,25,28,31\n",
    "t3 = [50, 300, 500,1000]"
   ],
   "metadata": {
    "collapsed": false,
    "pycharm": {
     "name": "#%%\n"
    }
   }
  },
  {
   "cell_type": "code",
   "execution_count": 83,
   "outputs": [
    {
     "name": "stdout",
     "output_type": "stream",
     "text": [
      "Lauf: 50\n",
      "Spektralradius der Jacobi-Matrix: 0.6363165753901004\n",
      "omega = 1.1290325988457666\n"
     ]
    },
    {
     "name": "stderr",
     "output_type": "stream",
     "text": [
      "C:\\Users\\eaut2\\anaconda3\\lib\\site-packages\\numpy\\linalg\\linalg.py:2585: RuntimeWarning:\n",
      "\n",
      "overflow encountered in reduce\n",
      "\n"
     ]
    },
    {
     "ename": "KeyboardInterrupt",
     "evalue": "",
     "output_type": "error",
     "traceback": [
      "\u001B[1;31m---------------------------------------------------------------------------\u001B[0m",
      "\u001B[1;31mKeyboardInterrupt\u001B[0m                         Traceback (most recent call last)",
      "\u001B[1;32m<ipython-input-83-c0ea7e347749>\u001B[0m in \u001B[0;36m<module>\u001B[1;34m\u001B[0m\n\u001B[0;32m      7\u001B[0m     \u001B[0mw\u001B[0m \u001B[1;33m=\u001B[0m\u001B[0mcomp_w\u001B[0m\u001B[1;33m(\u001B[0m\u001B[0mA\u001B[0m\u001B[1;33m)\u001B[0m \u001B[1;31m#1.25\u001B[0m\u001B[1;33m\u001B[0m\u001B[1;33m\u001B[0m\u001B[0m\n\u001B[0;32m      8\u001B[0m     \u001B[0mtrue_sol\u001B[0m \u001B[1;33m=\u001B[0m \u001B[0mnpl\u001B[0m\u001B[1;33m.\u001B[0m\u001B[0msolve\u001B[0m\u001B[1;33m(\u001B[0m\u001B[0mA\u001B[0m\u001B[1;33m,\u001B[0m \u001B[0mb\u001B[0m\u001B[1;33m)\u001B[0m\u001B[1;33m\u001B[0m\u001B[1;33m\u001B[0m\u001B[0m\n\u001B[1;32m----> 9\u001B[1;33m     \u001B[0mjac_erg\u001B[0m\u001B[1;33m,\u001B[0m \u001B[0mk_jacobi\u001B[0m \u001B[1;33m=\u001B[0m \u001B[0mjacobi_2\u001B[0m\u001B[1;33m(\u001B[0m\u001B[0mA\u001B[0m\u001B[1;33m,\u001B[0m\u001B[0mb\u001B[0m\u001B[1;33m,\u001B[0m \u001B[0miter\u001B[0m\u001B[1;33m=\u001B[0m\u001B[0mmax_iter\u001B[0m\u001B[1;33m)\u001B[0m\u001B[1;33m\u001B[0m\u001B[1;33m\u001B[0m\u001B[0m\n\u001B[0m\u001B[0;32m     10\u001B[0m     \u001B[0mt_j\u001B[0m \u001B[1;33m=\u001B[0m \u001B[0mTimer\u001B[0m\u001B[1;33m(\u001B[0m\u001B[1;32mlambda\u001B[0m\u001B[1;33m:\u001B[0m\u001B[0mjacobi_2\u001B[0m\u001B[1;33m(\u001B[0m\u001B[0mA\u001B[0m\u001B[1;33m,\u001B[0m\u001B[0mb\u001B[0m\u001B[1;33m,\u001B[0m \u001B[0miter\u001B[0m\u001B[1;33m=\u001B[0m\u001B[0mmax_iter\u001B[0m\u001B[1;33m)\u001B[0m\u001B[1;33m)\u001B[0m\u001B[1;33m\u001B[0m\u001B[1;33m\u001B[0m\u001B[0m\n\u001B[0;32m     11\u001B[0m     \u001B[0mgauss_seidel_erg\u001B[0m\u001B[1;33m,\u001B[0m \u001B[0mk_gauss_seidel\u001B[0m \u001B[1;33m=\u001B[0m \u001B[0mgauss_seidel\u001B[0m\u001B[1;33m(\u001B[0m\u001B[0mA\u001B[0m\u001B[1;33m,\u001B[0m \u001B[0mb\u001B[0m\u001B[1;33m,\u001B[0m \u001B[0miter\u001B[0m\u001B[1;33m=\u001B[0m\u001B[0mmax_iter\u001B[0m\u001B[1;33m)\u001B[0m\u001B[1;33m\u001B[0m\u001B[1;33m\u001B[0m\u001B[0m\n",
      "\u001B[1;32m~\\DataspellProjects\\Numerik-Projekt\\Test\\methods.py\u001B[0m in \u001B[0;36mjacobi_2\u001B[1;34m(A, b, iter)\u001B[0m\n\u001B[0;32m     79\u001B[0m \u001B[1;33m\u001B[0m\u001B[0m\n\u001B[0;32m     80\u001B[0m     \u001B[1;32mfor\u001B[0m \u001B[0mk\u001B[0m \u001B[1;32min\u001B[0m \u001B[0mrange\u001B[0m\u001B[1;33m(\u001B[0m\u001B[0miter\u001B[0m\u001B[1;33m)\u001B[0m\u001B[1;33m:\u001B[0m\u001B[1;33m\u001B[0m\u001B[1;33m\u001B[0m\u001B[0m\n\u001B[1;32m---> 81\u001B[1;33m         \u001B[0mx\u001B[0m \u001B[1;33m=\u001B[0m \u001B[1;33m(\u001B[0m\u001B[0mb\u001B[0m \u001B[1;33m-\u001B[0m \u001B[0mnp\u001B[0m\u001B[1;33m.\u001B[0m\u001B[0mdot\u001B[0m\u001B[1;33m(\u001B[0m\u001B[0mR\u001B[0m\u001B[1;33m,\u001B[0m\u001B[0mx0\u001B[0m\u001B[1;33m)\u001B[0m\u001B[1;33m)\u001B[0m\u001B[1;33m/\u001B[0m \u001B[0mD\u001B[0m\u001B[1;33m\u001B[0m\u001B[1;33m\u001B[0m\u001B[0m\n\u001B[0m\u001B[0;32m     82\u001B[0m         \u001B[1;32mif\u001B[0m \u001B[0mtermin\u001B[0m\u001B[1;33m(\u001B[0m\u001B[0mx\u001B[0m \u001B[1;33m,\u001B[0m \u001B[0mx0\u001B[0m \u001B[1;33m)\u001B[0m\u001B[1;33m:\u001B[0m\u001B[1;33m\u001B[0m\u001B[1;33m\u001B[0m\u001B[0m\n\u001B[0;32m     83\u001B[0m             \u001B[1;32mreturn\u001B[0m \u001B[0mx\u001B[0m\u001B[1;33m,\u001B[0m \u001B[0mk\u001B[0m\u001B[1;33m\u001B[0m\u001B[1;33m\u001B[0m\u001B[0m\n",
      "\u001B[1;32m<__array_function__ internals>\u001B[0m in \u001B[0;36mdot\u001B[1;34m(*args, **kwargs)\u001B[0m\n",
      "\u001B[1;31mKeyboardInterrupt\u001B[0m: "
     ]
    }
   ],
   "source": [
    "for n in t3:\n",
    "    #A = create_block_triag(n)\n",
    "    #b = np.ones((n))\n",
    "    #A, b =matrix_setup(n=n)\n",
    "    A,b=create_mat(n=n)\n",
    "    print(f\"Lauf: {n}\")\n",
    "    w =comp_w(A) #1.25\n",
    "    true_sol = npl.solve(A, b)\n",
    "    jac_erg, k_jacobi = jacobi_2(A,b, iter=max_iter)\n",
    "    t_j = Timer(lambda:jacobi_2(A,b, iter=max_iter))\n",
    "    gauss_seidel_erg, k_gauss_seidel = gauss_seidel(A, b, iter=max_iter)\n",
    "    gs_t = Timer(lambda:gauss_seidel(A,b, iter=max_iter))\n",
    "    sor_erg, k_sor = sor(A, b,w, iter=max_iter)\n",
    "    sor_t = Timer(lambda:SOR_num(A,b,w, iter=max_iter))\n",
    "    gauss_elim_erg, c = gauss(A=A,B=b)\n",
    "    t_ge = Timer(lambda:gauss(A,b))\n",
    "    #print(round(sor_t.timeit(1),4))\n",
    "    # iteration\n",
    "    mat.append(n)\n",
    "    jac_it.append(k_jacobi)\n",
    "    gasei_it.append(k_gauss_seidel)\n",
    "    sor_it.append(k_sor)\n",
    "    gael_it.append(c)\n",
    "    # error\n",
    "    jac_error.append(error(jac_erg, true_sol))\n",
    "    gasei_error.append(error(gauss_seidel_erg, true_sol))\n",
    "    sor_error.append(error(sor_erg, true_sol))\n",
    "    gael_error.append(error(gauss_elim_erg, true_sol))\n",
    "    #print(norm(np.subtract(np.round(gauss_elim_erg,16) , np.round(true_sol,16)), ord=1)  )\n",
    "    # timer\n",
    "    jac_time.append(\"{:.3E}\".format((t_j.timeit(1))))\n",
    "    gasei_time.append(\"{:.3E}\".format((gs_t.timeit(1))))\n",
    "    sor_time_arr.append(\"{:.3E}\".format((sor_t.timeit(1))))\n",
    "    gael_time.append(\"{:.3E}\".format((t_ge.timeit(1))))"
   ],
   "metadata": {
    "collapsed": false,
    "pycharm": {
     "name": "#%%\n"
    }
   }
  },
  {
   "cell_type": "code",
   "execution_count": 72,
   "outputs": [],
   "source": [
    "df = runntime_compare_df(mat, jac_it, gasei_it, sor_it, gael_it,jac_time, gasei_time, sor_time_arr, gael_time)"
   ],
   "metadata": {
    "collapsed": false,
    "pycharm": {
     "name": "#%%\n"
    }
   }
  },
  {
   "cell_type": "code",
   "execution_count": 73,
   "outputs": [
    {
     "data": {
      "text/plain": "                 Jacobi            Gauß Seidel                    SOR  \\\n            Iterationen Zeit (sek) Iterationen Zeit (sek) Iterationen   \nMatrixgröße                                                             \n4                     4  3.159E-04           4  3.780E-04          14   \n8                     8  2.911E-04           7  2.598E-04          11   \n16                    9  2.715E-04           9  2.714E-04          11   \n25                   10  3.610E-04           9  3.156E-04          10   \n11                   10  7.075E-04          10  4.274E-04          13   \n21                   10  2.273E-03           9  1.208E-03          10   \n31                    9  1.062E-03           8  9.026E-04           9   \n41                    9  2.853E-03           8  1.915E-03           9   \n51                    9  1.149E-03           8  1.001E-03           8   \n50                    9  1.883E-03           8  1.455E-03           9   \n300                   7  2.347E-01           6  2.529E-02           6   \n500                   6  1.586E-01           6  3.885E-02           6   \n1000                  6  5.312E-01           6  3.712E-01           6   \n\n                       Gauß Eliminierung             \n            Zeit (sek)       Iterationen Zeit (sek)  \nMatrixgröße                                          \n4            2.458E-04                 6  1.262E-04  \n8            3.324E-04                28  1.652E-04  \n16           5.364E-04               120  4.972E-04  \n25           9.245E-04               300  1.181E-03  \n11           4.762E-04                55  3.375E-04  \n21           4.244E-03               210  2.468E-03  \n31           8.979E-03               465  6.530E-03  \n41           3.412E-03               820  9.665E-03  \n51           4.873E-03              1275  9.846E-03  \n50           6.708E-03              1225  1.671E-02  \n300          4.398E-02             44850  4.038E-01  \n500          3.313E-02            124750  6.372E-01  \n1000         9.149E-02            499500  2.548E+00  ",
      "text/html": "<div>\n<style scoped>\n    .dataframe tbody tr th:only-of-type {\n        vertical-align: middle;\n    }\n\n    .dataframe tbody tr th {\n        vertical-align: top;\n    }\n\n    .dataframe thead tr th {\n        text-align: left;\n    }\n\n    .dataframe thead tr:last-of-type th {\n        text-align: right;\n    }\n</style>\n<table border=\"1\" class=\"dataframe\">\n  <thead>\n    <tr>\n      <th></th>\n      <th colspan=\"2\" halign=\"left\">Jacobi</th>\n      <th colspan=\"2\" halign=\"left\">Gauß Seidel</th>\n      <th colspan=\"2\" halign=\"left\">SOR</th>\n      <th colspan=\"2\" halign=\"left\">Gauß Eliminierung</th>\n    </tr>\n    <tr>\n      <th></th>\n      <th>Iterationen</th>\n      <th>Zeit (sek)</th>\n      <th>Iterationen</th>\n      <th>Zeit (sek)</th>\n      <th>Iterationen</th>\n      <th>Zeit (sek)</th>\n      <th>Iterationen</th>\n      <th>Zeit (sek)</th>\n    </tr>\n    <tr>\n      <th>Matrixgröße</th>\n      <th></th>\n      <th></th>\n      <th></th>\n      <th></th>\n      <th></th>\n      <th></th>\n      <th></th>\n      <th></th>\n    </tr>\n  </thead>\n  <tbody>\n    <tr>\n      <th>4</th>\n      <td>4</td>\n      <td>3.159E-04</td>\n      <td>4</td>\n      <td>3.780E-04</td>\n      <td>14</td>\n      <td>2.458E-04</td>\n      <td>6</td>\n      <td>1.262E-04</td>\n    </tr>\n    <tr>\n      <th>8</th>\n      <td>8</td>\n      <td>2.911E-04</td>\n      <td>7</td>\n      <td>2.598E-04</td>\n      <td>11</td>\n      <td>3.324E-04</td>\n      <td>28</td>\n      <td>1.652E-04</td>\n    </tr>\n    <tr>\n      <th>16</th>\n      <td>9</td>\n      <td>2.715E-04</td>\n      <td>9</td>\n      <td>2.714E-04</td>\n      <td>11</td>\n      <td>5.364E-04</td>\n      <td>120</td>\n      <td>4.972E-04</td>\n    </tr>\n    <tr>\n      <th>25</th>\n      <td>10</td>\n      <td>3.610E-04</td>\n      <td>9</td>\n      <td>3.156E-04</td>\n      <td>10</td>\n      <td>9.245E-04</td>\n      <td>300</td>\n      <td>1.181E-03</td>\n    </tr>\n    <tr>\n      <th>11</th>\n      <td>10</td>\n      <td>7.075E-04</td>\n      <td>10</td>\n      <td>4.274E-04</td>\n      <td>13</td>\n      <td>4.762E-04</td>\n      <td>55</td>\n      <td>3.375E-04</td>\n    </tr>\n    <tr>\n      <th>21</th>\n      <td>10</td>\n      <td>2.273E-03</td>\n      <td>9</td>\n      <td>1.208E-03</td>\n      <td>10</td>\n      <td>4.244E-03</td>\n      <td>210</td>\n      <td>2.468E-03</td>\n    </tr>\n    <tr>\n      <th>31</th>\n      <td>9</td>\n      <td>1.062E-03</td>\n      <td>8</td>\n      <td>9.026E-04</td>\n      <td>9</td>\n      <td>8.979E-03</td>\n      <td>465</td>\n      <td>6.530E-03</td>\n    </tr>\n    <tr>\n      <th>41</th>\n      <td>9</td>\n      <td>2.853E-03</td>\n      <td>8</td>\n      <td>1.915E-03</td>\n      <td>9</td>\n      <td>3.412E-03</td>\n      <td>820</td>\n      <td>9.665E-03</td>\n    </tr>\n    <tr>\n      <th>51</th>\n      <td>9</td>\n      <td>1.149E-03</td>\n      <td>8</td>\n      <td>1.001E-03</td>\n      <td>8</td>\n      <td>4.873E-03</td>\n      <td>1275</td>\n      <td>9.846E-03</td>\n    </tr>\n    <tr>\n      <th>50</th>\n      <td>9</td>\n      <td>1.883E-03</td>\n      <td>8</td>\n      <td>1.455E-03</td>\n      <td>9</td>\n      <td>6.708E-03</td>\n      <td>1225</td>\n      <td>1.671E-02</td>\n    </tr>\n    <tr>\n      <th>300</th>\n      <td>7</td>\n      <td>2.347E-01</td>\n      <td>6</td>\n      <td>2.529E-02</td>\n      <td>6</td>\n      <td>4.398E-02</td>\n      <td>44850</td>\n      <td>4.038E-01</td>\n    </tr>\n    <tr>\n      <th>500</th>\n      <td>6</td>\n      <td>1.586E-01</td>\n      <td>6</td>\n      <td>3.885E-02</td>\n      <td>6</td>\n      <td>3.313E-02</td>\n      <td>124750</td>\n      <td>6.372E-01</td>\n    </tr>\n    <tr>\n      <th>1000</th>\n      <td>6</td>\n      <td>5.312E-01</td>\n      <td>6</td>\n      <td>3.712E-01</td>\n      <td>6</td>\n      <td>9.149E-02</td>\n      <td>499500</td>\n      <td>2.548E+00</td>\n    </tr>\n  </tbody>\n</table>\n</div>"
     },
     "execution_count": 73,
     "metadata": {},
     "output_type": "execute_result"
    }
   ],
   "source": [
    "df"
   ],
   "metadata": {
    "collapsed": false,
    "pycharm": {
     "name": "#%%\n"
    }
   }
  },
  {
   "cell_type": "code",
   "execution_count": 74,
   "outputs": [],
   "source": [
    "df_error = runntime_compare_df(mat, jac_it, gasei_it, sor_it, gael_it,\n",
    "                               jac_time=jac_error, gasei_time=gasei_error, sor_time_arr=sor_error, gael_time=gael_error, label = \"Fehler\")"
   ],
   "metadata": {
    "collapsed": false,
    "pycharm": {
     "name": "#%%\n"
    }
   }
  },
  {
   "cell_type": "code",
   "execution_count": 75,
   "outputs": [
    {
     "data": {
      "text/plain": "                 Jacobi            Gauß Seidel                    SOR  \\\n            Iterationen     Fehler Iterationen     Fehler Iterationen   \nMatrixgröße                                                             \n4                     4  1.135E-01           4  4.163E-17          14   \n8                     8  9.320E-01           7  7.980E-17          11   \n16                    9  3.101E-01           9  2.555E-12          11   \n25                   10  2.986E-01           9  7.874E-12          10   \n11                   10  6.427E-01          10  1.197E-16          13   \n21                   10  3.247E-01           9  3.794E-12          10   \n31                    9  2.710E-01           8  2.415E-11           9   \n41                    9  2.827E-01           8  1.267E-11           9   \n51                    9  3.510E-01           8  1.188E-11           8   \n50                    9  1.808E-01           8  1.305E-11           9   \n300                   7  1.179E-01           6  1.778E-11           6   \n500                   6  9.767E-02           6  2.768E-12           6   \n1000                  6  6.226E-02           6  2.605E-13           6   \n\n                       Gauß Eliminierung             \n                Fehler       Iterationen     Fehler  \nMatrixgröße                                          \n4            1.038E-10                 6  5.857E-01  \n8            6.994E-11                28  1.955E+00  \n16           7.813E-12               120  2.199E+00  \n25           4.017E-11               300  1.849E+00  \n11           8.457E-12                55  2.137E+00  \n21           3.499E-11               210  2.980E+00  \n31           3.305E-11               465  2.249E+00  \n41           8.102E-12               820  2.536E+00  \n51           1.908E-11              1275  2.248E+00  \n50           7.485E-12              1225  2.034E+00  \n300          2.131E-11             44850  2.162E+00  \n500          3.408E-12            124750  2.127E+00  \n1000         2.636E-13            499500  2.081E+00  ",
      "text/html": "<div>\n<style scoped>\n    .dataframe tbody tr th:only-of-type {\n        vertical-align: middle;\n    }\n\n    .dataframe tbody tr th {\n        vertical-align: top;\n    }\n\n    .dataframe thead tr th {\n        text-align: left;\n    }\n\n    .dataframe thead tr:last-of-type th {\n        text-align: right;\n    }\n</style>\n<table border=\"1\" class=\"dataframe\">\n  <thead>\n    <tr>\n      <th></th>\n      <th colspan=\"2\" halign=\"left\">Jacobi</th>\n      <th colspan=\"2\" halign=\"left\">Gauß Seidel</th>\n      <th colspan=\"2\" halign=\"left\">SOR</th>\n      <th colspan=\"2\" halign=\"left\">Gauß Eliminierung</th>\n    </tr>\n    <tr>\n      <th></th>\n      <th>Iterationen</th>\n      <th>Fehler</th>\n      <th>Iterationen</th>\n      <th>Fehler</th>\n      <th>Iterationen</th>\n      <th>Fehler</th>\n      <th>Iterationen</th>\n      <th>Fehler</th>\n    </tr>\n    <tr>\n      <th>Matrixgröße</th>\n      <th></th>\n      <th></th>\n      <th></th>\n      <th></th>\n      <th></th>\n      <th></th>\n      <th></th>\n      <th></th>\n    </tr>\n  </thead>\n  <tbody>\n    <tr>\n      <th>4</th>\n      <td>4</td>\n      <td>1.135E-01</td>\n      <td>4</td>\n      <td>4.163E-17</td>\n      <td>14</td>\n      <td>1.038E-10</td>\n      <td>6</td>\n      <td>5.857E-01</td>\n    </tr>\n    <tr>\n      <th>8</th>\n      <td>8</td>\n      <td>9.320E-01</td>\n      <td>7</td>\n      <td>7.980E-17</td>\n      <td>11</td>\n      <td>6.994E-11</td>\n      <td>28</td>\n      <td>1.955E+00</td>\n    </tr>\n    <tr>\n      <th>16</th>\n      <td>9</td>\n      <td>3.101E-01</td>\n      <td>9</td>\n      <td>2.555E-12</td>\n      <td>11</td>\n      <td>7.813E-12</td>\n      <td>120</td>\n      <td>2.199E+00</td>\n    </tr>\n    <tr>\n      <th>25</th>\n      <td>10</td>\n      <td>2.986E-01</td>\n      <td>9</td>\n      <td>7.874E-12</td>\n      <td>10</td>\n      <td>4.017E-11</td>\n      <td>300</td>\n      <td>1.849E+00</td>\n    </tr>\n    <tr>\n      <th>11</th>\n      <td>10</td>\n      <td>6.427E-01</td>\n      <td>10</td>\n      <td>1.197E-16</td>\n      <td>13</td>\n      <td>8.457E-12</td>\n      <td>55</td>\n      <td>2.137E+00</td>\n    </tr>\n    <tr>\n      <th>21</th>\n      <td>10</td>\n      <td>3.247E-01</td>\n      <td>9</td>\n      <td>3.794E-12</td>\n      <td>10</td>\n      <td>3.499E-11</td>\n      <td>210</td>\n      <td>2.980E+00</td>\n    </tr>\n    <tr>\n      <th>31</th>\n      <td>9</td>\n      <td>2.710E-01</td>\n      <td>8</td>\n      <td>2.415E-11</td>\n      <td>9</td>\n      <td>3.305E-11</td>\n      <td>465</td>\n      <td>2.249E+00</td>\n    </tr>\n    <tr>\n      <th>41</th>\n      <td>9</td>\n      <td>2.827E-01</td>\n      <td>8</td>\n      <td>1.267E-11</td>\n      <td>9</td>\n      <td>8.102E-12</td>\n      <td>820</td>\n      <td>2.536E+00</td>\n    </tr>\n    <tr>\n      <th>51</th>\n      <td>9</td>\n      <td>3.510E-01</td>\n      <td>8</td>\n      <td>1.188E-11</td>\n      <td>8</td>\n      <td>1.908E-11</td>\n      <td>1275</td>\n      <td>2.248E+00</td>\n    </tr>\n    <tr>\n      <th>50</th>\n      <td>9</td>\n      <td>1.808E-01</td>\n      <td>8</td>\n      <td>1.305E-11</td>\n      <td>9</td>\n      <td>7.485E-12</td>\n      <td>1225</td>\n      <td>2.034E+00</td>\n    </tr>\n    <tr>\n      <th>300</th>\n      <td>7</td>\n      <td>1.179E-01</td>\n      <td>6</td>\n      <td>1.778E-11</td>\n      <td>6</td>\n      <td>2.131E-11</td>\n      <td>44850</td>\n      <td>2.162E+00</td>\n    </tr>\n    <tr>\n      <th>500</th>\n      <td>6</td>\n      <td>9.767E-02</td>\n      <td>6</td>\n      <td>2.768E-12</td>\n      <td>6</td>\n      <td>3.408E-12</td>\n      <td>124750</td>\n      <td>2.127E+00</td>\n    </tr>\n    <tr>\n      <th>1000</th>\n      <td>6</td>\n      <td>6.226E-02</td>\n      <td>6</td>\n      <td>2.605E-13</td>\n      <td>6</td>\n      <td>2.636E-13</td>\n      <td>499500</td>\n      <td>2.081E+00</td>\n    </tr>\n  </tbody>\n</table>\n</div>"
     },
     "execution_count": 75,
     "metadata": {},
     "output_type": "execute_result"
    }
   ],
   "source": [
    "df_error"
   ],
   "metadata": {
    "collapsed": false,
    "pycharm": {
     "name": "#%%\n"
    }
   }
  },
  {
   "cell_type": "code",
   "execution_count": null,
   "outputs": [],
   "source": [
    "plt.figure(figsize=(10,6))\n",
    "#plt.plot(mat, [float(e)for e in jac_time], label= \"JAC\",  linewidth=3)\n",
    "#plt.plot(mat, [float(e)  for e in gasei_time], label= \"GS\",  linewidth=3)\n",
    "plt.plot( mat, [float(e) for e in sor_time_arr], label= \"SOR\",  linewidth=3,c=\"green\")\n",
    "plt.plot( mat, [float(e) for e in gael_time],  label= \"Gauß Elimination\",  linewidth=3,c=\"red\")\n",
    "\n",
    "plt.title('Laufzeitvergleich', fontweight='bold', fontsize=17, pad=20)\n",
    "plt.xticks(rotation='0', fontsize=14)\n",
    "plt.yticks(rotation='0', fontsize=14)\n",
    "plt.xlabel('Matrixgröße (nxn)', fontsize=14, labelpad=15, weight ='bold')\n",
    "plt.ylabel('Laufzeit (s)', fontsize=14, labelpad=15, weight ='bold')\n",
    "plt.legend(frameon=True,loc='upper left', shadow=True)\n",
    "plt.tight_layout(h_pad=3.0)\n",
    "plt.show()"
   ],
   "metadata": {
    "collapsed": false,
    "pycharm": {
     "name": "#%%\n"
    }
   }
  },
  {
   "cell_type": "code",
   "execution_count": null,
   "outputs": [],
   "source": [
    "plt.figure(figsize=(10,6))\n",
    "plt.plot(mat, [float(e)for e in jac_error], label= \"JAC\",  linewidth=3)\n",
    "plt.plot(mat, [float(e)  for e in gasei_error], label= \"GS\",  linewidth=3)\n",
    "plt.plot( mat, [float(e) for e in sor_error], label= \"SOR\",  linewidth=3,c=\"green\")\n",
    "plt.plot( mat, [float(e) for e in gael_error],  label= \"Gauß Elimination\",  linewidth=3, c=\"red\")\n",
    "\n",
    "plt.title('Fehlervergleich', fontweight='bold', fontsize=17, pad=20)\n",
    "plt.xticks(rotation='0', fontsize=14)\n",
    "plt.yticks(rotation='0', fontsize=14)\n",
    "plt.xlabel('Matrixgröße (nxn)', fontsize=14, labelpad=15, weight ='bold')\n",
    "plt.ylabel('Fehler (10E-6)', fontsize=14, labelpad=15, weight ='bold')\n",
    "plt.legend(frameon=True,loc='upper left', shadow=True)\n",
    "plt.tight_layout(h_pad=3.0)\n",
    "plt.show()"
   ],
   "metadata": {
    "collapsed": false,
    "pycharm": {
     "name": "#%%\n"
    }
   }
  },
  {
   "cell_type": "code",
   "execution_count": null,
   "outputs": [],
   "source": [
    "plt.figure(figsize=(10,6))\n",
    "w= 40\n",
    "#plt.bar(mat,jac_it, label= \"JAC\",width = w)\n",
    "#plt.bar(mat, gasei_it, label= \"GS\",width = w)\n",
    "#plt.bar( mat, sor_it, label= \"SOR\",width = w)\n",
    "plt.bar( mat, gael_it,  label= \"Gauß Elimination\", width = w , color=\"red\")\n",
    "\n",
    "plt.title('Vergleich Iterationen', fontweight='bold', fontsize=17, pad=20)\n",
    "plt.xticks(rotation='0', fontsize=14)\n",
    "plt.yticks(rotation='0', fontsize=14)\n",
    "plt.xlabel('Matrixgröße (nxn)', fontsize=14, labelpad=15, weight ='bold')\n",
    "plt.ylabel('Iterationen', fontsize=14, labelpad=15, weight ='bold')\n",
    "plt.legend(frameon=True,loc='upper left', shadow=True)\n",
    "plt.show()"
   ],
   "metadata": {
    "collapsed": false,
    "pycharm": {
     "name": "#%%\n"
    }
   }
  },
  {
   "cell_type": "code",
   "execution_count": null,
   "outputs": [],
   "source": [
    "df_error.plot.bar(figsize=(10,6))\n",
    "plt.title('Vergleich Iterationen', fontweight='bold', fontsize=17, pad=20)\n",
    "plt.xticks(rotation='0', fontsize=14)\n",
    "plt.yticks(rotation='0', fontsize=14)\n",
    "plt.xlabel('Matrixgröße', fontsize=14, labelpad=15, weight ='bold')\n",
    "plt.ylabel('Iterationen (10E6)', fontsize=14, labelpad=15, weight ='bold')\n",
    "plt.legend(frameon=True,loc='best', shadow=True, fontsize=\"large\")\n",
    "plt.tight_layout(h_pad=3.0)\n",
    "plt.show()"
   ],
   "metadata": {
    "collapsed": false,
    "pycharm": {
     "name": "#%%\n"
    }
   }
  },
  {
   "cell_type": "code",
   "execution_count": null,
   "outputs": [],
   "source": [
    "n = 200\n",
    "A = create_block_triag(n)\n",
    "b = np.ones((n))\n",
    "\n",
    "true_sol = npl.solve(A, b)\n",
    "sor_erg, k_sor = sor(A, b,w, iter=max_iter)\n",
    "\n",
    "round(norm(np.subtract(sor_erg , true_sol)),5)"
   ],
   "metadata": {
    "collapsed": false,
    "pycharm": {
     "name": "#%%\n"
    }
   }
  },
  {
   "cell_type": "code",
   "execution_count": null,
   "outputs": [],
   "source": [
    "n=20\n",
    "A = create_block_triag(n)\n",
    "b = np.ones((n))\n",
    "true_sol = npl.solve(A, b)\n",
    "\n",
    "jac_erg, k_jacobi = jacobi(A,b, iter=max_iter)\n",
    "gauss_seidel_erg, k_gauss_seidel = gauss_seidel(A, b, iter=max_iter)\n",
    "sor_erg, sor_time, k_sor = sor(A, b,w=1, iter=max_iter)\n",
    "gauss_elim_erg,c = gauss(A,b)"
   ],
   "metadata": {
    "collapsed": false,
    "pycharm": {
     "name": "#%%\n"
    }
   }
  },
  {
   "cell_type": "code",
   "execution_count": null,
   "outputs": [],
   "source": [
    "gs_fehler=np.round(gauss_seidel_erg[len(gauss_seidel_erg)-1]-true_sol,4)\n",
    "jk_fehler=np.round(jac_erg[len(jac_erg)-1]-true_sol,4)\n",
    "sor_fehler=np.round(sor_erg[len(sor_erg)-1]-true_sol,4)\n",
    "\n",
    "jr = Matrix(jk_fehler)\n",
    "gr = Matrix(gs_fehler)\n",
    "sr = Matrix(sor_fehler)\n",
    "#display(Math('\\ \\\\text{ Jacobi : }%s   \\\\text{Gauss-Seidel :} %s \\\\text{SOR :} %s' % (sym.latex(sym.simplify(jr)) , (sym.latex(sym.simplify(gr))), (sym.latex(sym.simplify(sr)))  ))   )"
   ],
   "metadata": {
    "collapsed": false,
    "pycharm": {
     "name": "#%%\n"
    }
   }
  },
  {
   "cell_type": "code",
   "execution_count": null,
   "outputs": [],
   "source": [
    "latex_name =f\"time_table_m{n}.tex\"\n",
    "#time_df.to_latex(\"C:\\\\Users\\\\eaut2\\\\DataspellProjects\\\\Numerik-Projekt\\\\Test\\\\\"+f\"{latex_name}\", index=True, bold_rows=True, caption=\"Beispieltext\", position=\"h!\", label=\"example\")"
   ],
   "metadata": {
    "collapsed": false,
    "pycharm": {
     "name": "#%%\n"
    }
   }
  },
  {
   "cell_type": "code",
   "execution_count": null,
   "outputs": [],
   "source": [
    "l1, l2, l3,l4, la = symbols(\"x1 x2 x3 x.. x\")\n",
    "l = Matrix([l1,l2,l3,l4])\n",
    "r = Matrix(b)\n",
    "a = Matrix(A)\n",
    "#display(Math('\\ \\\\text{  }%s   \\\\text{*} %s \\\\text{= } %s' % (sym.latex(sym.simplify(a)) , (sym.latex(sym.simplify(l))), (sym.latex(sym.simplify(r)))  ))   )"
   ],
   "metadata": {
    "collapsed": false,
    "pycharm": {
     "name": "#%%\n"
    }
   }
  },
  {
   "cell_type": "code",
   "execution_count": null,
   "outputs": [],
   "source": [
    "dict = {'Jacobi Verfahren': jac_erg,\n",
    "        'Gauss-Seidel Verfahren': gauss_seidel_erg,\n",
    "        \"SOR Verfahren\":sor_erg\n",
    "        }\n",
    "#label = [f'x{i}' for i in range(0,n)]\n",
    "label = [f'x0 - x{n-1} ']\n",
    "\n",
    "for verfahren_name,data in dict.items():\n",
    "\n",
    "    plt.figure(figsize=(9,6))\n",
    "    plt.plot(data) # linestyle='',marker='.'\n",
    "    #plt.axvline(x=k_sor+0.5,linestyle='--',c='red')\n",
    "    plt.title(verfahren_name, fontweight='bold', fontsize=17, pad=20)\n",
    "    plt.xticks(rotation='0', fontsize=14)\n",
    "    plt.yticks(rotation='0', fontsize=14)\n",
    "    plt.xlabel('Iteration', fontsize=14, labelpad=15, weight ='bold')\n",
    "    plt.ylabel('Wert', fontsize=14, labelpad=15, weight ='bold')\n",
    "    plt.legend(labels = label,frameon=True,loc='best', shadow=True, fontsize=\"large\")\n",
    "    plt.tight_layout(h_pad=3.0)\n",
    "    plt.grid(True)\n",
    "    plt.show()"
   ],
   "metadata": {
    "collapsed": false,
    "pycharm": {
     "name": "#%%\n"
    }
   }
  },
  {
   "cell_type": "markdown",
   "source": [
    "Ideen: LGS von n = 2 bis n = 6 mio\n",
    "\n",
    "Plot: Fehler, Wert,"
   ],
   "metadata": {
    "collapsed": false,
    "pycharm": {
     "name": "#%% md\n"
    }
   }
  }
 ],
 "metadata": {
  "kernelspec": {
   "display_name": "Python 3",
   "language": "python",
   "name": "python3"
  },
  "language_info": {
   "codemirror_mode": {
    "name": "ipython",
    "version": 2
   },
   "file_extension": ".py",
   "mimetype": "text/x-python",
   "name": "python",
   "nbconvert_exporter": "python",
   "pygments_lexer": "ipython2",
   "version": "2.7.6"
  }
 },
 "nbformat": 4,
 "nbformat_minor": 0
}