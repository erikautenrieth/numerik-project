{
 "cells": [
  {
   "cell_type": "code",
   "execution_count": 1,
   "outputs": [],
   "source": [
    "import time\n",
    "import  math\n",
    "import numpy as np\n",
    "from numpy.linalg import inv\n",
    "import numpy.linalg as npl\n",
    "import numpy.random as npr\n",
    "import pandas as pd\n",
    "import cufflinks as cf\n",
    "import seaborn as sns\n",
    "import matplotlib.pyplot as plt\n",
    "\n",
    "from scipy import linalg\n",
    "from scipy.sparse import diags\n",
    "from sympy import *\n",
    "import sympy as sym\n",
    "sym.init_printing()\n",
    "from IPython.display import display, Math"
   ],
   "metadata": {
    "collapsed": false,
    "pycharm": {
     "name": "#%%\n"
    }
   }
  },
  {
   "cell_type": "code",
   "execution_count": 2,
   "outputs": [],
   "source": [
    "from methods import jacobi,jacobi_num, sor, gauss_seidel, gauss_elimination, gaussElim\n",
    "from check_matrix import characteristics, isDDM, create_block_triag"
   ],
   "metadata": {
    "collapsed": false,
    "pycharm": {
     "name": "#%%\n"
    }
   }
  },
  {
   "cell_type": "code",
   "execution_count": 3,
   "outputs": [],
   "source": [
    "from scipy.sparse import random\n",
    "from scipy.stats import rv_continuous\n",
    "from numpy.random import default_rng\n",
    "# random sparce matrix\n",
    "class CustomDistribution(rv_continuous):\n",
    "    def _rvs(self,  size=None, random_state=None):\n",
    "        return random_state.standard_normal(size)\n",
    "rng = default_rng()\n",
    "X = CustomDistribution(seed=rng)\n",
    "Y = X()  # get a frozen version of the distribution"
   ],
   "metadata": {
    "collapsed": false,
    "pycharm": {
     "name": "#%%\n"
    }
   }
  },
  {
   "cell_type": "code",
   "execution_count": 4,
   "outputs": [],
   "source": [
    "def create_mat(n,add=4):\n",
    "    #S = random(n, n, density=0.75, random_state=rng, data_rvs=Y.rvs)\n",
    "    #A = S.A\n",
    "    A=np.random.randint(low=-1,high=3,size=(n,n))\n",
    "    for i in range(n):\n",
    "        for j in range(n):\n",
    "            if i == j:\n",
    "                A[i][j]+= sum(abs(A[i]))+1\n",
    "\n",
    "    A[0][0] += 0.5\n",
    "    A[n-1][n-1] += 0.5\n",
    "    return A"
   ],
   "metadata": {
    "collapsed": false,
    "pycharm": {
     "name": "#%%\n"
    }
   }
  },
  {
   "cell_type": "code",
   "execution_count": 67,
   "outputs": [],
   "source": [
    "time_list = []\n",
    "iter_list = []\n",
    "mat, jac_it, gasei_it, sor_it, gael_it = [],[],[],[],[]\n",
    "jac_time, gasei_time, sor_time, gael_time = [],[],[],[]\n",
    "\n",
    "\n",
    "max_iter = 1000000\n",
    "mat_gr = [80, 160, 320, 640, 1280]\n",
    "rg = range(10,101,10)"
   ],
   "metadata": {
    "collapsed": false,
    "pycharm": {
     "name": "#%%\n"
    }
   }
  },
  {
   "cell_type": "code",
   "execution_count": 68,
   "outputs": [
    {
     "name": "stdout",
     "output_type": "stream",
     "text": [
      "Lauf: 10\n",
      "Lauf: 20\n",
      "Lauf: 30\n",
      "Lauf: 40\n",
      "Lauf: 50\n",
      "Lauf: 60\n",
      "Lauf: 70\n",
      "Lauf: 80\n",
      "Lauf: 90\n",
      "Lauf: 100\n"
     ]
    }
   ],
   "source": [
    "for n in rg:\n",
    "    A = create_block_triag(n)\n",
    "    b = np.ones((n))\n",
    "\n",
    "    if  characteristics(A) == 0:\n",
    "        A = create_block_triag(n)\n",
    "        print(\"Determinante ist Null\")\n",
    "        continue\n",
    "\n",
    "    if isDDM(m=A,n=n):\n",
    "        print(f\"Lauf: {n}\")\n",
    "\n",
    "        true_sol = npl.solve(A, b)\n",
    "        jac_erg, jacobi_time, k_jacobi = jacobi(A,b, iter=max_iter)\n",
    "        gauss_seidel_erg, gauss_seidel_time, k_gauss_seidel = gauss_seidel(A, b, iter=max_iter)\n",
    "        sor_erg, sor_t, k_sor = sor(A, b, w_in=None, iter=max_iter)\n",
    "        gauss_elim_erg, gauss_elim_time,c = gaussElim(A=A,B=b)\n",
    "\n",
    "\n",
    "        mat.append(n)\n",
    "        jac_it.append(k_jacobi)\n",
    "        gasei_it.append(k_gauss_seidel)\n",
    "        sor_it.append(k_sor)\n",
    "        gael_it.append(c)\n",
    "\n",
    "        jac_time.append(jacobi_time)\n",
    "        gasei_time.append(gauss_seidel_time)\n",
    "        sor_time.append(sor_t)\n",
    "        gael_time.append(gauss_elim_time)\n",
    "\n",
    "        time_list.append([ jacobi_time, gauss_seidel_time, sor_t, gauss_elim_time ])\n",
    "        iter_list.append([n,k_jacobi, k_gauss_seidel, k_sor])"
   ],
   "metadata": {
    "collapsed": false,
    "pycharm": {
     "name": "#%%\n"
    }
   }
  },
  {
   "cell_type": "code",
   "execution_count": 69,
   "outputs": [],
   "source": [
    "#print(time_list)"
   ],
   "metadata": {
    "collapsed": false,
    "pycharm": {
     "name": "#%%\n"
    }
   }
  },
  {
   "cell_type": "code",
   "execution_count": 70,
   "outputs": [
    {
     "data": {
      "text/plain": "                 Jacobi            Gauss Seidel                    SOR  \\\n            Iterationen Zeit (sek)  Iterationen Zeit (sek) Iterationen   \nMatrixgröße                                                              \n10                  156    0.8906s           87    0.0000s          21   \n20                  575    0.8906s          319    0.0156s          43   \n30                 1255    0.8906s          696    0.0312s          65   \n40                 2197    0.8906s         1217    0.1562s          88   \n50                 3401    0.8906s         1884    0.2344s         112   \n60                 4866    0.8906s         2695    0.3750s         136   \n70                 6593    0.8906s         3651    0.5625s         160   \n80                 8582    0.8906s         4752    0.2500s         185   \n90                10832    0.8906s         5998    0.4219s         209   \n100               13344    0.8906s         7389    0.6250s         234   \n\n                       Gauss Eliminierung             \n            Zeit (sek)        Iterationen Zeit (sek)  \nMatrixgröße                                           \n10             0.0000s                 64    0.0000s  \n20             0.0000s                229    0.0000s  \n30             0.0156s                494    0.0000s  \n40             0.1250s                859    0.0000s  \n50             0.3125s               1324    0.0625s  \n60             0.5312s               1889    0.0000s  \n70             0.5469s               2554    0.0000s  \n80             0.2500s               3319    0.0000s  \n90             0.5000s               4184    0.0000s  \n100            0.6250s               5149    0.0000s  ",
      "text/html": "<div>\n<style scoped>\n    .dataframe tbody tr th:only-of-type {\n        vertical-align: middle;\n    }\n\n    .dataframe tbody tr th {\n        vertical-align: top;\n    }\n\n    .dataframe thead tr th {\n        text-align: left;\n    }\n\n    .dataframe thead tr:last-of-type th {\n        text-align: right;\n    }\n</style>\n<table border=\"1\" class=\"dataframe\">\n  <thead>\n    <tr>\n      <th></th>\n      <th colspan=\"2\" halign=\"left\">Jacobi</th>\n      <th colspan=\"2\" halign=\"left\">Gauss Seidel</th>\n      <th colspan=\"2\" halign=\"left\">SOR</th>\n      <th colspan=\"2\" halign=\"left\">Gauss Eliminierung</th>\n    </tr>\n    <tr>\n      <th></th>\n      <th>Iterationen</th>\n      <th>Zeit (sek)</th>\n      <th>Iterationen</th>\n      <th>Zeit (sek)</th>\n      <th>Iterationen</th>\n      <th>Zeit (sek)</th>\n      <th>Iterationen</th>\n      <th>Zeit (sek)</th>\n    </tr>\n    <tr>\n      <th>Matrixgröße</th>\n      <th></th>\n      <th></th>\n      <th></th>\n      <th></th>\n      <th></th>\n      <th></th>\n      <th></th>\n      <th></th>\n    </tr>\n  </thead>\n  <tbody>\n    <tr>\n      <th>10</th>\n      <td>156</td>\n      <td>0.8906s</td>\n      <td>87</td>\n      <td>0.0000s</td>\n      <td>21</td>\n      <td>0.0000s</td>\n      <td>64</td>\n      <td>0.0000s</td>\n    </tr>\n    <tr>\n      <th>20</th>\n      <td>575</td>\n      <td>0.8906s</td>\n      <td>319</td>\n      <td>0.0156s</td>\n      <td>43</td>\n      <td>0.0000s</td>\n      <td>229</td>\n      <td>0.0000s</td>\n    </tr>\n    <tr>\n      <th>30</th>\n      <td>1255</td>\n      <td>0.8906s</td>\n      <td>696</td>\n      <td>0.0312s</td>\n      <td>65</td>\n      <td>0.0156s</td>\n      <td>494</td>\n      <td>0.0000s</td>\n    </tr>\n    <tr>\n      <th>40</th>\n      <td>2197</td>\n      <td>0.8906s</td>\n      <td>1217</td>\n      <td>0.1562s</td>\n      <td>88</td>\n      <td>0.1250s</td>\n      <td>859</td>\n      <td>0.0000s</td>\n    </tr>\n    <tr>\n      <th>50</th>\n      <td>3401</td>\n      <td>0.8906s</td>\n      <td>1884</td>\n      <td>0.2344s</td>\n      <td>112</td>\n      <td>0.3125s</td>\n      <td>1324</td>\n      <td>0.0625s</td>\n    </tr>\n    <tr>\n      <th>60</th>\n      <td>4866</td>\n      <td>0.8906s</td>\n      <td>2695</td>\n      <td>0.3750s</td>\n      <td>136</td>\n      <td>0.5312s</td>\n      <td>1889</td>\n      <td>0.0000s</td>\n    </tr>\n    <tr>\n      <th>70</th>\n      <td>6593</td>\n      <td>0.8906s</td>\n      <td>3651</td>\n      <td>0.5625s</td>\n      <td>160</td>\n      <td>0.5469s</td>\n      <td>2554</td>\n      <td>0.0000s</td>\n    </tr>\n    <tr>\n      <th>80</th>\n      <td>8582</td>\n      <td>0.8906s</td>\n      <td>4752</td>\n      <td>0.2500s</td>\n      <td>185</td>\n      <td>0.2500s</td>\n      <td>3319</td>\n      <td>0.0000s</td>\n    </tr>\n    <tr>\n      <th>90</th>\n      <td>10832</td>\n      <td>0.8906s</td>\n      <td>5998</td>\n      <td>0.4219s</td>\n      <td>209</td>\n      <td>0.5000s</td>\n      <td>4184</td>\n      <td>0.0000s</td>\n    </tr>\n    <tr>\n      <th>100</th>\n      <td>13344</td>\n      <td>0.8906s</td>\n      <td>7389</td>\n      <td>0.6250s</td>\n      <td>234</td>\n      <td>0.6250s</td>\n      <td>5149</td>\n      <td>0.0000s</td>\n    </tr>\n  </tbody>\n</table>\n</div>"
     },
     "execution_count": 70,
     "metadata": {},
     "output_type": "execute_result"
    }
   ],
   "source": [
    "mux = pd.MultiIndex.from_product([[\"Jacobi\", \"Gauss Seidel\", \"SOR\", \"Gauss Eliminierung\"], ['Iterationen','Zeit (sek)']])\n",
    "df = pd.DataFrame( columns=mux)\n",
    "\n",
    "\n",
    "df[\"Jacobi\",\"Iterationen\"] = jac_it\n",
    "df[\"Gauss Seidel\",\"Iterationen\"] = gasei_it\n",
    "df[\"SOR\",\"Iterationen\"] = sor_it\n",
    "df[\"Gauss Eliminierung\",\"Iterationen\"] = gael_it\n",
    "df[\"Jacobi\",\"Zeit (sek)\"] = jacobi_time\n",
    "df[\"Gauss Seidel\",\"Zeit (sek)\"] = gasei_time\n",
    "df[\"SOR\",\"Zeit (sek)\"] = sor_time\n",
    "df[\"Gauss Eliminierung\",\"Zeit (sek)\"] = gael_time\n",
    "df[\"Matrixgröße\"] = mat\n",
    "df.set_index(\"Matrixgröße\", inplace=True)\n",
    "df"
   ],
   "metadata": {
    "collapsed": false,
    "pycharm": {
     "name": "#%%\n"
    }
   }
  },
  {
   "cell_type": "code",
   "execution_count": 12,
   "outputs": [
    {
     "data": {
      "text/plain": "       Jacobi            Gauss Seidel                    SOR             \\\n  Iterationen Zeit (sek)  Iterationen Zeit (sek) Iterationen Zeit (sek)   \n0           1          2            1          2           1          2   \n1           3          4            3          4           3          4   \n\n  Gauss Eliminierung             \n         Iterationen Zeit (sek)  \n0                  1          2  \n1                  3          4  ",
      "text/html": "<div>\n<style scoped>\n    .dataframe tbody tr th:only-of-type {\n        vertical-align: middle;\n    }\n\n    .dataframe tbody tr th {\n        vertical-align: top;\n    }\n\n    .dataframe thead tr th {\n        text-align: left;\n    }\n</style>\n<table border=\"1\" class=\"dataframe\">\n  <thead>\n    <tr>\n      <th></th>\n      <th colspan=\"2\" halign=\"left\">Jacobi</th>\n      <th colspan=\"2\" halign=\"left\">Gauss Seidel</th>\n      <th colspan=\"2\" halign=\"left\">SOR</th>\n      <th colspan=\"2\" halign=\"left\">Gauss Eliminierung</th>\n    </tr>\n    <tr>\n      <th></th>\n      <th>Iterationen</th>\n      <th>Zeit (sek)</th>\n      <th>Iterationen</th>\n      <th>Zeit (sek)</th>\n      <th>Iterationen</th>\n      <th>Zeit (sek)</th>\n      <th>Iterationen</th>\n      <th>Zeit (sek)</th>\n    </tr>\n  </thead>\n  <tbody>\n    <tr>\n      <th>0</th>\n      <td>1</td>\n      <td>2</td>\n      <td>1</td>\n      <td>2</td>\n      <td>1</td>\n      <td>2</td>\n      <td>1</td>\n      <td>2</td>\n    </tr>\n    <tr>\n      <th>1</th>\n      <td>3</td>\n      <td>4</td>\n      <td>3</td>\n      <td>4</td>\n      <td>3</td>\n      <td>4</td>\n      <td>3</td>\n      <td>4</td>\n    </tr>\n  </tbody>\n</table>\n</div>"
     },
     "execution_count": 12,
     "metadata": {},
     "output_type": "execute_result"
    }
   ],
   "source": [
    "def add_top_column(df, top_col, inplace=False):\n",
    "    if not inplace:\n",
    "        df = df.copy()\n",
    "\n",
    "    df.columns = pd.MultiIndex.from_product([[top_col], df.columns])\n",
    "    return df\n",
    "\n",
    "\n",
    "orig_df = pd.DataFrame([[1, 2], [3, 4]], columns=['Iterationen', 'Zeit (sek)'])\n",
    "new_df = add_top_column(orig_df, \"Jacobi\")\n",
    "new_df2 = add_top_column(orig_df, \"Gauss Seidel\")\n",
    "new_df3 = add_top_column(orig_df, \"SOR\")\n",
    "new_df4 = add_top_column(orig_df, \"Gauss Eliminierung\")\n",
    "res_df = pd.concat([new_df, new_df2, new_df3, new_df4], axis=1)\n",
    "res_df"
   ],
   "metadata": {
    "collapsed": false,
    "pycharm": {
     "name": "#%%\n"
    }
   }
  },
  {
   "cell_type": "code",
   "execution_count": null,
   "outputs": [],
   "source": [
    "n=20\n",
    "A = create_block_triag(n)\n",
    "b = np.ones((n))\n",
    "true_sol = npl.solve(A, b)\n",
    "\n",
    "jac_erg, jacobi_time, k_jacobi = jacobi(A,b, iter=max_iter)\n",
    "gauss_seidel_erg, gauss_seidel_time, k_gauss_seidel = gauss_seidel(A, b, iter=max_iter)\n",
    "sor_erg, sor_time, k_sor = sor(A, b, w_in=None, iter=max_iter)\n",
    "gauss_elim_erg, gauss_elim_time,c = gaussElim(A,b)\n",
    "\n",
    "#jac_erg.append(true_sol)\n",
    "#gauss_seidel_erg.append(true_sol)\n",
    "#sor_erg.append(true_sol)\n",
    "\n",
    "time_df = pd.DataFrame(columns=[\"Jacobi\", \"Gauss Seidel\", \"SOR\", \"Gauss Eliminierung\"])\n",
    "time_df.loc[0]=[ jacobi_time, gauss_seidel_time, sor_time, gauss_elim_time ]\n",
    "time_df.loc[1]=[ int(k_jacobi), k_gauss_seidel, k_sor, c]\n",
    "time_df.index = [\"Zeit (sek)\", \"Iterrationen\"]\n",
    "\n",
    "time_df.loc[\"Iterrationen\"] = time_df.loc[\"Iterrationen\"].astype(float).astype(int)\n",
    "time_df"
   ],
   "metadata": {
    "collapsed": false,
    "pycharm": {
     "name": "#%%\n"
    }
   }
  },
  {
   "cell_type": "code",
   "execution_count": null,
   "outputs": [],
   "source": [
    "mux = pd.MultiIndex.from_product([[\"Jacobi\", \"Gauss Seidel\", \"SOR\", \"Gauss Eliminierung\"], ['Itterationen','Zeit (sek)']])\n",
    "df = pd.DataFrame( columns=mux)\n",
    "\n",
    "df"
   ],
   "metadata": {
    "collapsed": false,
    "pycharm": {
     "name": "#%%\n"
    }
   }
  },
  {
   "cell_type": "code",
   "execution_count": null,
   "outputs": [],
   "source": [
    "gs_fehler=np.round(gauss_seidel_erg[len(gauss_seidel_erg)-1]-true_sol,4)\n",
    "jk_fehler=np.round(jac_erg[len(jac_erg)-1]-true_sol,4)\n",
    "sor_fehler=np.round(sor_erg[len(sor_erg)-1]-true_sol,4)\n",
    "\n",
    "jr = Matrix(jk_fehler)\n",
    "gr = Matrix(gs_fehler)\n",
    "sr = Matrix(sor_fehler)\n",
    "#display(Math('\\ \\\\text{ Jacobi : }%s   \\\\text{Gauss-Seidel :} %s \\\\text{SOR :} %s' % (sym.latex(sym.simplify(jr)) , (sym.latex(sym.simplify(gr))), (sym.latex(sym.simplify(sr)))  ))   )"
   ],
   "metadata": {
    "collapsed": false,
    "pycharm": {
     "name": "#%%\n"
    }
   }
  },
  {
   "cell_type": "code",
   "execution_count": null,
   "outputs": [],
   "source": [
    "latex_name =f\"time_table_m{n}.tex\"\n",
    "#time_df.to_latex(\"C:\\\\Users\\\\eaut2\\\\DataspellProjects\\\\Numerik-Projekt\\\\Test\\\\\"+f\"{latex_name}\", index=True, bold_rows=True, caption=\"Beispieltext\", position=\"h!\", label=\"example\")"
   ],
   "metadata": {
    "collapsed": false,
    "pycharm": {
     "name": "#%%\n"
    }
   }
  },
  {
   "cell_type": "code",
   "execution_count": null,
   "outputs": [],
   "source": [
    "l1, l2, l3,l4, la = symbols(\"x1 x2 x3 x.. x\")\n",
    "l = Matrix([l1,l2,l3,l4])\n",
    "r = Matrix(b)\n",
    "a = Matrix(A)\n",
    "#display(Math('\\ \\\\text{  }%s   \\\\text{*} %s \\\\text{= } %s' % (sym.latex(sym.simplify(a)) , (sym.latex(sym.simplify(l))), (sym.latex(sym.simplify(r)))  ))   )"
   ],
   "metadata": {
    "collapsed": false,
    "pycharm": {
     "name": "#%%\n"
    }
   }
  },
  {
   "cell_type": "code",
   "execution_count": null,
   "outputs": [],
   "source": [
    "dict = {'Jacobi Verfahren': jac_erg,\n",
    "        'Gauss-Seidel Verfahren': gauss_seidel_erg,\n",
    "        \"SOR Verfahren\":sor_erg\n",
    "        }\n",
    "#label = [f'x{i}' for i in range(0,n)]\n",
    "label = [f'x0 - x{n-1} ']\n",
    "\n",
    "for verfahren_name,data in dict.items():\n",
    "\n",
    "    plt.figure(figsize=(9,6))\n",
    "    plt.plot(data) # linestyle='',marker='.'\n",
    "    #plt.axvline(x=k_sor+0.5,linestyle='--',c='red')\n",
    "    plt.title(verfahren_name, fontweight='bold', fontsize=17, pad=20)\n",
    "    plt.xticks(rotation='0', fontsize=14)\n",
    "    plt.yticks(rotation='0', fontsize=14)\n",
    "    plt.xlabel('Iteration', fontsize=14, labelpad=15, weight ='bold')\n",
    "    plt.ylabel('Wert', fontsize=14, labelpad=15, weight ='bold')\n",
    "    plt.legend(labels = label,frameon=True,loc='best', shadow=True, fontsize=\"large\")\n",
    "    plt.tight_layout(h_pad=3.0)\n",
    "    plt.grid(True)\n",
    "    plt.show()"
   ],
   "metadata": {
    "collapsed": false,
    "pycharm": {
     "name": "#%%\n"
    }
   }
  },
  {
   "cell_type": "markdown",
   "source": [
    "Ideen: LGS von n = 2 bis n = 6 mio\n",
    "\n",
    "Plot: Fehler, Wert,"
   ],
   "metadata": {
    "collapsed": false,
    "pycharm": {
     "name": "#%% md\n"
    }
   }
  }
 ],
 "metadata": {
  "kernelspec": {
   "display_name": "Python 3",
   "language": "python",
   "name": "python3"
  },
  "language_info": {
   "codemirror_mode": {
    "name": "ipython",
    "version": 2
   },
   "file_extension": ".py",
   "mimetype": "text/x-python",
   "name": "python",
   "nbconvert_exporter": "python",
   "pygments_lexer": "ipython2",
   "version": "2.7.6"
  }
 },
 "nbformat": 4,
 "nbformat_minor": 0
}