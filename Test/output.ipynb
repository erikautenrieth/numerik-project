{
 "cells": [
  {
   "cell_type": "code",
   "execution_count": 36,
   "outputs": [],
   "source": [
    "import time\n",
    "import  math\n",
    "import numpy as np\n",
    "from numpy.linalg import inv\n",
    "import numpy.linalg as npl\n",
    "import numpy.random as npr\n",
    "import pandas as pd\n",
    "import cufflinks as cf\n",
    "import seaborn as sns\n",
    "import matplotlib.pyplot as plt\n",
    "\n",
    "from scipy import linalg\n",
    "from scipy.sparse import diags\n",
    "from sympy import *\n",
    "import sympy as sym\n",
    "sym.init_printing()\n",
    "from IPython.display import display, Math"
   ],
   "metadata": {
    "collapsed": false,
    "pycharm": {
     "name": "#%%\n"
    }
   }
  },
  {
   "cell_type": "code",
   "execution_count": 37,
   "outputs": [],
   "source": [
    "from methods import jacobi, sor, gauss_seidel, gauss_elimination\n",
    "from check_matrix import characteristics, isDDM"
   ],
   "metadata": {
    "collapsed": false,
    "pycharm": {
     "name": "#%%\n"
    }
   }
  },
  {
   "cell_type": "code",
   "execution_count": 38,
   "outputs": [],
   "source": [
    "from scipy.sparse import random\n",
    "from scipy.stats import rv_continuous\n",
    "from numpy.random import default_rng\n",
    "\n",
    "class CustomDistribution(rv_continuous):\n",
    "    def _rvs(self,  size=None, random_state=None):\n",
    "        return random_state.standard_normal(size)"
   ],
   "metadata": {
    "collapsed": false,
    "pycharm": {
     "name": "#%%\n"
    }
   }
  },
  {
   "cell_type": "code",
   "execution_count": 38,
   "outputs": [],
   "source": [],
   "metadata": {
    "collapsed": false,
    "pycharm": {
     "name": "#%%\n"
    }
   }
  },
  {
   "cell_type": "code",
   "execution_count": 39,
   "outputs": [],
   "source": [
    "n = 10\n",
    "#A =  np.random.uniform(low=-30, high=30, size=(n,n))\n",
    "b = np.random.uniform(low=-10, high=10, size=(n,))"
   ],
   "metadata": {
    "collapsed": false,
    "pycharm": {
     "name": "#%%\n"
    }
   }
  },
  {
   "cell_type": "code",
   "execution_count": 40,
   "outputs": [],
   "source": [
    "def create_mat(n,add=10):\n",
    "    rng = default_rng()\n",
    "    X = CustomDistribution(seed=rng)\n",
    "    Y = X()  # get a frozen version of the distribution\n",
    "    S = random(n, n, density=0.75, random_state=rng, data_rvs=Y.rvs)\n",
    "    A = S.A\n",
    "\n",
    "    A[0][0] += add/2\n",
    "    A[n-1][n-1] +=add/2\n",
    "    for i in range(n):\n",
    "        for j in range(n):\n",
    "            if i == j:\n",
    "                A[i][j]+= add\n",
    "\n",
    "    return A*10"
   ],
   "metadata": {
    "collapsed": false,
    "pycharm": {
     "name": "#%%\n"
    }
   }
  },
  {
   "cell_type": "code",
   "execution_count": 41,
   "outputs": [],
   "source": [
    "n = 10\n",
    "iter = 10000\n",
    "\n",
    "A = create_mat(n,10)\n",
    "b = np.random.uniform(low=-10, high=10, size=(n,))"
   ],
   "metadata": {
    "collapsed": false,
    "pycharm": {
     "name": "#%%\n"
    }
   }
  },
  {
   "cell_type": "code",
   "execution_count": 42,
   "outputs": [],
   "source": [
    "time_list = []\n",
    "iter_list = []"
   ],
   "metadata": {
    "collapsed": false,
    "pycharm": {
     "name": "#%%\n"
    }
   }
  },
  {
   "cell_type": "code",
   "execution_count": 43,
   "outputs": [
    {
     "name": "stdout",
     "output_type": "stream",
     "text": [
      "Spektralradius der Jacobi-Matrix: 0.07283725969674161\n",
      "w = 1.0013298465407166\n",
      "gerechnet\n",
      "Spektralradius der Jacobi-Matrix: 0.0756101436248433\n",
      "w = 1.0014333234699933\n",
      "gerechnet\n",
      "Spektralradius der Jacobi-Matrix: 0.10403402382980124\n",
      "w = 1.0027205117098321\n",
      "gerechnet\n",
      "Spektralradius der Jacobi-Matrix: 0.1308700618548445\n",
      "w = 1.004318807183162\n",
      "gerechnet\n",
      "Spektralradius der Jacobi-Matrix: 0.11115397471852376\n",
      "w = 1.0031080315464838\n",
      "gerechnet\n",
      "Spektralradius der Jacobi-Matrix: 0.1292563378660025\n",
      "w = 1.0042120601899855\n",
      "gerechnet\n",
      "Spektralradius der Jacobi-Matrix: 0.15707465498618917\n",
      "w = 1.0062453970109824\n",
      "gerechnet\n",
      "Spektralradius der Jacobi-Matrix: 0.1483684252093321\n",
      "w = 1.005564716393779\n",
      "gerechnet\n",
      "Spektralradius der Jacobi-Matrix: 0.15319260547593064\n",
      "w = 1.0059368634630206\n",
      "gerechnet\n",
      "Spektralradius der Jacobi-Matrix: 0.19314364576468518\n",
      "w = 1.0095042346149508\n",
      "gerechnet\n",
      "Spektralradius der Jacobi-Matrix: 0.1900551787343561\n",
      "w = 1.0091971108680162\n",
      "gerechnet\n",
      "Spektralradius der Jacobi-Matrix: 0.16735581176039763\n",
      "w = 1.0071017985541244\n",
      "gerechnet\n",
      "Spektralradius der Jacobi-Matrix: 0.1982582189291978\n",
      "w = 1.0100245825705425\n",
      "gerechnet\n",
      "Spektralradius der Jacobi-Matrix: 0.18071122457414968\n",
      "w = 1.008300227513636\n",
      "gerechnet\n",
      "Spektralradius der Jacobi-Matrix: 0.19948041604267155\n",
      "w = 1.0101511027531898\n",
      "gerechnet\n",
      "Spektralradius der Jacobi-Matrix: 0.21497904678970883\n",
      "w = 1.011828957825624\n",
      "gerechnet\n",
      "Spektralradius der Jacobi-Matrix: 0.220635665500912\n",
      "w = 1.0124755744513463\n",
      "gerechnet\n",
      "Spektralradius der Jacobi-Matrix: 0.2372573038828337\n",
      "w = 1.0144833504111936\n",
      "gerechnet\n",
      "Spektralradius der Jacobi-Matrix: 0.25422927241601057\n",
      "w = 1.0167023974154734\n",
      "gerechnet\n",
      "Spektralradius der Jacobi-Matrix: 0.265028111114882\n",
      "w = 1.018205159057355\n",
      "gerechnet\n",
      "Spektralradius der Jacobi-Matrix: 0.24515255450837176\n",
      "w = 1.0154941481724724\n",
      "gerechnet\n",
      "Spektralradius der Jacobi-Matrix: 0.2615910292884811\n",
      "w = 1.0177190954901996\n",
      "gerechnet\n",
      "Spektralradius der Jacobi-Matrix: 0.26765799302229054\n",
      "w = 1.018581999187792\n",
      "gerechnet\n",
      "Spektralradius der Jacobi-Matrix: 0.29370311288306516\n",
      "w = 1.0225488955919595\n",
      "gerechnet\n",
      "Spektralradius der Jacobi-Matrix: 0.27449378551324755\n",
      "w = 1.0195816396487716\n",
      "gerechnet\n",
      "Spektralradius der Jacobi-Matrix: 0.29338673107046603\n",
      "w = 1.0224981065926795\n",
      "gerechnet\n",
      "Spektralradius der Jacobi-Matrix: 0.29196596895771504\n",
      "w = 1.0222708305687693\n",
      "gerechnet\n",
      "Spektralradius der Jacobi-Matrix: 0.2802827378104363\n",
      "w = 1.0204511213295937\n",
      "gerechnet\n",
      "Spektralradius der Jacobi-Matrix: 0.3177750775338968\n",
      "w = 1.0266064965431234\n",
      "gerechnet\n",
      "Spektralradius der Jacobi-Matrix: 0.3178717178595044\n",
      "w = 1.0266235672881965\n",
      "gerechnet\n",
      "Spektralradius der Jacobi-Matrix: 0.30495296298450764\n",
      "w = 1.0243973476164556\n",
      "gerechnet\n",
      "Spektralradius der Jacobi-Matrix: 0.3338880079511866\n",
      "w = 1.0295412706832314\n",
      "gerechnet\n",
      "Spektralradius der Jacobi-Matrix: 0.33057125032566625\n",
      "w = 1.0289224765965617\n",
      "gerechnet\n",
      "Spektralradius der Jacobi-Matrix: 0.3284367632606931\n",
      "w = 1.0285283093547608\n",
      "gerechnet\n"
     ]
    }
   ],
   "source": [
    "for n in range(4,100,1):\n",
    "    A = create_mat(n,30)\n",
    "    b = np.random.uniform(low=-10, high=10, size=(n,))\n",
    "\n",
    "    if  characteristics(A) == 0:\n",
    "        A = create_mat(n,10)\n",
    "        print(\"bin raus\")\n",
    "        continue\n",
    "\n",
    "    if isDDM(m=A,n=n):\n",
    "        true_sol = npl.solve(A, b)\n",
    "        jac_erg, jacobi_time, k_jacobi = jacobi(A,b, iter=iter)\n",
    "        gauss_seidel_erg, gauss_seidel_time, k_gauss_seidel = gauss_seidel(A, b, iter=iter)\n",
    "        sor_erg, sor_time, k_sor = sor(A, b, w_in=None, iter=iter)\n",
    "        gauss_elim_erg, gauss_elim_time = gauss_elimination(A,b)\n",
    "\n",
    "        time_list.append([ jacobi_time, gauss_seidel_time, sor_time, gauss_elim_time ])\n",
    "        iter_list.append([n,int(k_jacobi), k_gauss_seidel, k_sor])\n",
    "\n"
   ],
   "metadata": {
    "collapsed": false,
    "pycharm": {
     "name": "#%%\n"
    }
   }
  },
  {
   "cell_type": "code",
   "execution_count": 53,
   "outputs": [
    {
     "data": {
      "text/plain": "array([[461.10337936,  -3.17977462,  -4.95410964, ...,  -3.15694199,\n          6.81869154,  27.41653804],\n       [-10.00120131, 308.0458119 ,  19.61749112, ...,   5.07862287,\n          4.91683631,  -6.36405571],\n       [-17.35283281,   0.        , 300.        , ...,   9.96817264,\n         -3.52901796,   2.71086759],\n       ...,\n       [  5.02444783,   0.        ,  23.68077772, ..., 299.31998776,\n         -2.14972667,   0.        ],\n       [  0.        ,   0.        ,   1.42292164, ...,   3.77174183,\n        298.44301656,   4.70557739],\n       [  6.53126531,   0.66616962,   0.        , ...,   4.85972704,\n          0.        , 438.82075319]])"
     },
     "execution_count": 53,
     "metadata": {},
     "output_type": "execute_result"
    }
   ],
   "source": [
    "A"
   ],
   "metadata": {
    "collapsed": false,
    "pycharm": {
     "name": "#%%\n"
    }
   }
  },
  {
   "cell_type": "code",
   "execution_count": 51,
   "outputs": [
    {
     "name": "stdout",
     "output_type": "stream",
     "text": [
      "[[4, 1, 1, 1], [5, 1, 1, 1], [6, 1, 1, 1], [7, 0, 0, 0], [8, 1, 1, 1], [9, 0, 0, 0], [10, 1, 1, 1], [11, 1, 1, 1], [12, 1, 1, 1], [13, 1, 0, 0], [14, 0, 0, 0], [15, 1, 1, 1], [16, 0, 0, 0], [17, 1, 1, 1], [18, 1, 1, 1], [19, 1, 1, 1], [20, 1, 1, 1], [21, 1, 1, 1], [22, 0, 1, 1], [23, 0, 0, 0], [24, 0, 0, 0], [25, 1, 0, 0], [26, 0, 0, 0], [27, 1, 0, 0], [28, 0, 0, 0], [29, 1, 1, 1], [30, 0, 0, 0], [31, 0, 1, 1], [32, 0, 1, 1], [33, 0, 0, 0], [34, 1, 0, 0], [35, 0, 0, 0], [36, 0, 1, 1], [37, 1, 1, 1]]\n"
     ]
    }
   ],
   "source": [
    "print(iter_list)"
   ],
   "metadata": {
    "collapsed": false,
    "pycharm": {
     "name": "#%%\n"
    }
   }
  },
  {
   "cell_type": "code",
   "execution_count": 45,
   "outputs": [
    {
     "name": "stdout",
     "output_type": "stream",
     "text": [
      "Spektralradius der Jacobi-Matrix: 0.5661395855429644\n",
      "w = 1.096305271172236\n"
     ]
    },
    {
     "data": {
      "text/plain": "               Jacobi Gauss Seidel      SOR Gauss Eliminierung\nZeit (sek)    0.0000s      0.0000s  0.0000s            0.0000s\nIterrationen        0            0        0                  0",
      "text/html": "<div>\n<style scoped>\n    .dataframe tbody tr th:only-of-type {\n        vertical-align: middle;\n    }\n\n    .dataframe tbody tr th {\n        vertical-align: top;\n    }\n\n    .dataframe thead th {\n        text-align: right;\n    }\n</style>\n<table border=\"1\" class=\"dataframe\">\n  <thead>\n    <tr style=\"text-align: right;\">\n      <th></th>\n      <th>Jacobi</th>\n      <th>Gauss Seidel</th>\n      <th>SOR</th>\n      <th>Gauss Eliminierung</th>\n    </tr>\n  </thead>\n  <tbody>\n    <tr>\n      <th>Zeit (sek)</th>\n      <td>0.0000s</td>\n      <td>0.0000s</td>\n      <td>0.0000s</td>\n      <td>0.0000s</td>\n    </tr>\n    <tr>\n      <th>Iterrationen</th>\n      <td>0</td>\n      <td>0</td>\n      <td>0</td>\n      <td>0</td>\n    </tr>\n  </tbody>\n</table>\n</div>"
     },
     "execution_count": 45,
     "metadata": {},
     "output_type": "execute_result"
    }
   ],
   "source": [
    "true_sol = npl.solve(A, b)\n",
    "\n",
    "iter = 10000\n",
    "jac_erg, jacobi_time, k_jacobi = jacobi(A,b, iter=iter)\n",
    "gauss_seidel_erg, gauss_seidel_time, k_gauss_seidel = gauss_seidel(A, b, iter=iter)\n",
    "sor_erg, sor_time, k_sor = sor(A, b, w_in=None, iter=iter)\n",
    "\n",
    "gauss_elim_erg, gauss_elim_time = gauss_elimination(A,b)\n",
    "\n",
    "jac_erg.append(true_sol)\n",
    "gauss_seidel_erg.append(true_sol)\n",
    "sor_erg.append(true_sol)\n",
    "\n",
    "time_df = pd.DataFrame(columns=[\"Jacobi\", \"Gauss Seidel\", \"SOR\", \"Gauss Eliminierung\"])\n",
    "time_df.loc[0]=[ jacobi_time, gauss_seidel_time, sor_time, gauss_elim_time ]\n",
    "time_df.loc[1]=[ int(k_jacobi), k_gauss_seidel, k_sor, 0.0]\n",
    "time_df.index = [\"Zeit (sek)\", \"Iterrationen\"]\n",
    "\n",
    "time_df.loc[\"Iterrationen\"] = time_df.loc[\"Iterrationen\"].astype(float).astype(int)\n",
    "\n",
    "time_df"
   ],
   "metadata": {
    "collapsed": false,
    "pycharm": {
     "name": "#%%\n"
    }
   }
  },
  {
   "cell_type": "code",
   "execution_count": 46,
   "outputs": [],
   "source": [
    "#gauss_seidel_erg[len(gauss_seidel_erg)-2]"
   ],
   "metadata": {
    "collapsed": false,
    "pycharm": {
     "name": "#%%\n"
    }
   }
  },
  {
   "cell_type": "code",
   "execution_count": 47,
   "outputs": [],
   "source": [
    "l1, l2, l3,l4, la = symbols(\"x1 x2 x3 x.. x\")\n",
    "l = Matrix([l1,l2,l3,l4])\n",
    "r = Matrix(b)\n",
    "a = Matrix(A)\n",
    "#display(Math('\\ \\\\text{  }%s   \\\\text{*} %s \\\\text{= } %s' % (sym.latex(sym.simplify(a)) , (sym.latex(sym.simplify(l))), (sym.latex(sym.simplify(r)))  ))   )"
   ],
   "metadata": {
    "collapsed": false,
    "pycharm": {
     "name": "#%%\n"
    }
   }
  },
  {
   "cell_type": "code",
   "execution_count": 48,
   "outputs": [
    {
     "data": {
      "text/plain": "<Figure size 648x432 with 1 Axes>",
      "image/png": "[encoded data removed]"
     },
     "metadata": {},
     "output_type": "display_data"
    }
   ],
   "source": [
    "label = [f'x{i}' for i in range(0,n)]\n",
    "label = [f'x0 - x{n-1} ']\n",
    "plt.figure(figsize=(9,6))\n",
    "plt.plot(sor_erg,linestyle='',marker='o')\n",
    "plt.axvline(x=k_sor+0.5,linestyle='--',c='red')\n",
    "\n",
    "plt.title('SOR Verfahren', fontweight='bold', fontsize=17, pad=20)\n",
    "\n",
    "plt.xticks(rotation='0', fontsize=14)\n",
    "plt.yticks(rotation='0', fontsize=14)\n",
    "plt.xlabel('Iteration', fontsize=14, labelpad=15, weight ='bold')\n",
    "plt.ylabel('Wert', fontsize=14, labelpad=15, weight ='bold')\n",
    "plt.legend(labels = label,frameon=True,loc='best', shadow=True, fontsize=\"large\")\n",
    "plt.tight_layout(h_pad=3.0)\n",
    "plt.grid(True)\n",
    "plt.show()"
   ],
   "metadata": {
    "collapsed": false,
    "pycharm": {
     "name": "#%%\n"
    }
   }
  },
  {
   "cell_type": "code",
   "execution_count": 49,
   "outputs": [
    {
     "data": {
      "text/plain": "<Figure size 648x432 with 1 Axes>",
      "image/png": "[encoded data removed]"
     },
     "metadata": {},
     "output_type": "display_data"
    }
   ],
   "source": [
    "plt.figure(figsize=(9,6))\n",
    "plt.plot(gauss_seidel_erg,linestyle='',marker='o')\n",
    "plt.axvline(x=k_gauss_seidel+0.5,linestyle='--',c='red')\n",
    "\n",
    "plt.title('Gauss-Seidel Verfahren', fontweight='bold', fontsize=17, pad=20)\n",
    "plt.xticks(rotation='0', fontsize=14)\n",
    "plt.yticks(rotation='0', fontsize=14)\n",
    "plt.xlabel('Iteration', fontsize=14, labelpad=15, weight ='bold')\n",
    "plt.ylabel('Wert', fontsize=14, labelpad=15, weight ='bold')\n",
    "plt.legend(labels = label,frameon=True,loc='best', shadow=True, fontsize=\"large\")\n",
    "plt.tight_layout(h_pad=3.0)\n",
    "plt.grid(True)\n",
    "plt.show()"
   ],
   "metadata": {
    "collapsed": false,
    "pycharm": {
     "name": "#%%\n"
    }
   }
  },
  {
   "cell_type": "code",
   "execution_count": 50,
   "outputs": [
    {
     "data": {
      "text/plain": "<Figure size 648x432 with 1 Axes>",
      "image/png": "[encoded data removed]"
     },
     "metadata": {},
     "output_type": "display_data"
    }
   ],
   "source": [
    "plt.figure(figsize=(9,6))\n",
    "plt.plot(jac_erg,linestyle='',marker='o')\n",
    "plt.axvline(x=k_jacobi+0.5,linestyle='--',c='red')\n",
    "\n",
    "plt.title('Jacobi Verfahren', fontweight='bold', fontsize=17, pad=20)\n",
    "plt.xticks(rotation='0', fontsize=14)\n",
    "plt.yticks(rotation='0', fontsize=14)\n",
    "plt.xlabel('Iteration', fontsize=14, labelpad=15, weight ='bold')\n",
    "plt.ylabel('Wert', fontsize=14, labelpad=15, weight ='bold')\n",
    "plt.legend(labels = label,frameon=True,loc='best', shadow=True, fontsize=\"large\")\n",
    "plt.tight_layout(h_pad=3.0)\n",
    "plt.grid(True)\n",
    "plt.show()"
   ],
   "metadata": {
    "collapsed": false,
    "pycharm": {
     "name": "#%%\n"
    }
   }
  },
  {
   "cell_type": "markdown",
   "source": [
    "Ideen: LGS von n = 2 bis n = 6 mio\n",
    "\n",
    "Plot: Fehler, Wert,"
   ],
   "metadata": {
    "collapsed": false,
    "pycharm": {
     "name": "#%% md\n"
    }
   }
  }
 ],
 "metadata": {
  "kernelspec": {
   "display_name": "Python 3",
   "language": "python",
   "name": "python3"
  },
  "language_info": {
   "codemirror_mode": {
    "name": "ipython",
    "version": 2
   },
   "file_extension": ".py",
   "mimetype": "text/x-python",
   "name": "python",
   "nbconvert_exporter": "python",
   "pygments_lexer": "ipython2",
   "version": "2.7.6"
  }
 },
 "nbformat": 4,
 "nbformat_minor": 0
}